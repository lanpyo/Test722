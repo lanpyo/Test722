{
 "cells": [
  {
   "cell_type": "code",
   "execution_count": 1,
   "id": "baa25f6a",
   "metadata": {},
   "outputs": [
    {
     "name": "stderr",
     "output_type": "stream",
     "text": [
      "WARNING: An illegal reflective access operation has occurred\n",
      "WARNING: Illegal reflective access by org.apache.spark.unsafe.Platform (file:/home/ubuntu/spark-3.2.1-bin-hadoop2.7/jars/spark-unsafe_2.12-3.2.1.jar) to constructor java.nio.DirectByteBuffer(long,int)\n",
      "WARNING: Please consider reporting this to the maintainers of org.apache.spark.unsafe.Platform\n",
      "WARNING: Use --illegal-access=warn to enable warnings of further illegal reflective access operations\n",
      "WARNING: All illegal access operations will be denied in a future release\n",
      "Using Spark's default log4j profile: org/apache/spark/log4j-defaults.properties\n",
      "Setting default log level to \"WARN\".\n",
      "To adjust logging level use sc.setLogLevel(newLevel). For SparkR, use setLogLevel(newLevel).\n",
      "23/10/03 07:46:50 WARN NativeCodeLoader: Unable to load native-hadoop library for your platform... using builtin-java classes where applicable\n"
     ]
    }
   ],
   "source": [
    "import findspark\n",
    "findspark.init('/home/ubuntu/spark-3.2.1-bin-hadoop2.7')\n",
    "import pyspark\n",
    "from pyspark.sql import SparkSession\n",
    "spark = SparkSession.builder.appName('basics').getOrCreate()"
   ]
  },
  {
   "cell_type": "code",
   "execution_count": 16,
   "id": "80959233",
   "metadata": {},
   "outputs": [
    {
     "name": "stdout",
     "output_type": "stream",
     "text": [
      "+-----------+--------+------+-------------------+---------------------------+\n",
      "|FECHA HECHO|CANTIDAD|GENERO|       ARMAS MEDIOS|Number of domestic violence|\n",
      "+-----------+--------+------+-------------------+---------------------------+\n",
      "| 2015-01-01|       1|     F|         NO REPORTA|                          4|\n",
      "| 2015-01-01|      10|     M|       CONTUNDENTES|                          1|\n",
      "| 2015-01-01|       1|     M|     CORTOPUNZANTES|                          1|\n",
      "| 2015-01-01|       3|     F|       CONTUNDENTES|                          8|\n",
      "| 2015-01-01|      10|     F|SIN EMPLEO DE ARMAS|                          2|\n",
      "| 2015-01-01|       5|     F|       CONTUNDENTES|                          2|\n",
      "| 2015-01-01|       2|     F|SIN EMPLEO DE ARMAS|                          2|\n",
      "| 2015-01-01|       2|     M|       CONTUNDENTES|                          3|\n",
      "| 2015-01-01|      16|     F|       CONTUNDENTES|                          1|\n",
      "| 2015-01-01|       3|     F|SIN EMPLEO DE ARMAS|                          1|\n",
      "| 2015-01-01|      14|     F|       CONTUNDENTES|                          1|\n",
      "| 2015-01-01|       3|     M|       CONTUNDENTES|                          2|\n",
      "| 2015-01-01|       1|     F|SIN EMPLEO DE ARMAS|                         24|\n",
      "| 2015-01-01|       6|     F|       CONTUNDENTES|                          4|\n",
      "| 2015-01-01|       2|     F|       CONTUNDENTES|                          7|\n",
      "| 2015-01-01|       2|     M|SIN EMPLEO DE ARMAS|                          2|\n",
      "| 2015-01-01|       1|     F|       CONTUNDENTES|                         65|\n",
      "| 2015-01-01|       4|     F|       CONTUNDENTES|                          2|\n",
      "| 2015-01-01|       1|     F|       ESCOPOLAMINA|                          1|\n",
      "| 2015-01-01|       1|     F|     CORTOPUNZANTES|                          1|\n",
      "+-----------+--------+------+-------------------+---------------------------+\n",
      "only showing top 20 rows\n",
      "\n"
     ]
    },
    {
     "name": "stderr",
     "output_type": "stream",
     "text": [
      "\r",
      "[Stage 20:>                                                         (0 + 1) / 1]\r"
     ]
    },
    {
     "name": "stdout",
     "output_type": "stream",
     "text": [
      "+-------+-----------+------------------+------+--------------------+---------------------------+\n",
      "|summary|FECHA HECHO|          CANTIDAD|GENERO|        ARMAS MEDIOS|Number of domestic violence|\n",
      "+-------+-----------+------------------+------+--------------------+---------------------------+\n",
      "|  count|      69352|             69352| 69352|               69352|                      69352|\n",
      "|   mean|       null|3.4878157803668244|  null|                null|          6.729135425077864|\n",
      "| stddev|       null|3.4387374643186135|  null|                null|         12.927083901243488|\n",
      "|    min| 2015-01-01|                 1|     F|ARMA BLANCA / COR...|                          1|\n",
      "|    max| 2023-02-28|                 9|     M| SIN EMPLEO DE ARMAS|                         99|\n",
      "+-------+-----------+------------------+------+--------------------+---------------------------+\n",
      "\n"
     ]
    },
    {
     "name": "stderr",
     "output_type": "stream",
     "text": [
      "\r",
      "                                                                                \r"
     ]
    }
   ],
   "source": [
    "from pyspark.ml.feature import StringIndexer, OneHotEncoder\n",
    "from pyspark.ml.regression import LinearRegression\n",
    "from pyspark.ml import Pipeline\n",
    "from pyspark.sql.functions import col\n",
    "\n",
    "df1 = spark.read.csv('dataset2015-2023/part-00000-cf3a31a0-f371-4654-b46c-cbd995786b39-c000.csv', header=True)\n",
    "df1.show()\n",
    "df1.describe().show()"
   ]
  },
  {
   "cell_type": "code",
   "execution_count": 13,
   "id": "f53aee5b",
   "metadata": {},
   "outputs": [
    {
     "name": "stdout",
     "output_type": "stream",
     "text": [
      "Defaulting to user installation because normal site-packages is not writeable\n",
      "Collecting statsmodels\n",
      "  Downloading statsmodels-0.14.0-cp310-cp310-manylinux_2_17_x86_64.manylinux2014_x86_64.whl (10.1 MB)\n",
      "\u001b[2K     \u001b[90m━━━━━━━━━━━━━━━━━━━━━━━━━━━━━━━━━━━━━━━━\u001b[0m \u001b[32m10.1/10.1 MB\u001b[0m \u001b[31m49.6 MB/s\u001b[0m eta \u001b[36m0:00:00\u001b[0m00:01\u001b[0m0:01\u001b[0m\n",
      "\u001b[?25hRequirement already satisfied: scipy!=1.9.2,>=1.4 in /home/ubuntu/.local/lib/python3.10/site-packages (from statsmodels) (1.8.1)\n",
      "Requirement already satisfied: pandas>=1.0 in /home/ubuntu/.local/lib/python3.10/site-packages (from statsmodels) (1.4.2)\n",
      "Collecting patsy>=0.5.2\n",
      "  Downloading patsy-0.5.3-py2.py3-none-any.whl (233 kB)\n",
      "\u001b[2K     \u001b[90m━━━━━━━━━━━━━━━━━━━━━━━━━━━━━━━━━━━━━━\u001b[0m \u001b[32m233.8/233.8 KB\u001b[0m \u001b[31m27.9 MB/s\u001b[0m eta \u001b[36m0:00:00\u001b[0m\n",
      "\u001b[?25hRequirement already satisfied: numpy>=1.18 in /home/ubuntu/.local/lib/python3.10/site-packages (from statsmodels) (1.22.4)\n",
      "Requirement already satisfied: packaging>=21.3 in /home/ubuntu/.local/lib/python3.10/site-packages (from statsmodels) (21.3)\n",
      "Requirement already satisfied: pyparsing!=3.0.5,>=2.0.2 in /usr/lib/python3/dist-packages (from packaging>=21.3->statsmodels) (2.4.7)\n",
      "Requirement already satisfied: python-dateutil>=2.8.1 in /home/ubuntu/.local/lib/python3.10/site-packages (from pandas>=1.0->statsmodels) (2.8.2)\n",
      "Requirement already satisfied: pytz>=2020.1 in /usr/lib/python3/dist-packages (from pandas>=1.0->statsmodels) (2022.1)\n",
      "Requirement already satisfied: six in /usr/lib/python3/dist-packages (from patsy>=0.5.2->statsmodels) (1.16.0)\n",
      "Installing collected packages: patsy, statsmodels\n",
      "Successfully installed patsy-0.5.3 statsmodels-0.14.0\n"
     ]
    },
    {
     "data": {
      "text/html": [
       "<table class=\"simpletable\">\n",
       "<caption>OLS Regression Results</caption>\n",
       "<tr>\n",
       "  <th>Dep. Variable:</th>    <td>Number of domestic violence</td> <th>  R-squared:         </th>  <td>   0.180</td>  \n",
       "</tr>\n",
       "<tr>\n",
       "  <th>Model:</th>                        <td>OLS</td>             <th>  Adj. R-squared:    </th>  <td>   0.180</td>  \n",
       "</tr>\n",
       "<tr>\n",
       "  <th>Method:</th>                  <td>Least Squares</td>        <th>  F-statistic:       </th>  <td>   1384.</td>  \n",
       "</tr>\n",
       "<tr>\n",
       "  <th>Date:</th>                  <td>Tue, 03 Oct 2023</td>       <th>  Prob (F-statistic):</th>   <td>  0.00</td>   \n",
       "</tr>\n",
       "<tr>\n",
       "  <th>Time:</th>                      <td>07:05:43</td>           <th>  Log-Likelihood:    </th> <td>-2.6902e+05</td>\n",
       "</tr>\n",
       "<tr>\n",
       "  <th>No. Observations:</th>           <td> 69352</td>            <th>  AIC:               </th>  <td>5.381e+05</td> \n",
       "</tr>\n",
       "<tr>\n",
       "  <th>Df Residuals:</th>               <td> 69340</td>            <th>  BIC:               </th>  <td>5.382e+05</td> \n",
       "</tr>\n",
       "<tr>\n",
       "  <th>Df Model:</th>                   <td>    11</td>            <th>                     </th>      <td> </td>     \n",
       "</tr>\n",
       "<tr>\n",
       "  <th>Covariance Type:</th>           <td>nonrobust</td>          <th>                     </th>      <td> </td>     \n",
       "</tr>\n",
       "</table>\n",
       "<table class=\"simpletable\">\n",
       "<tr>\n",
       "           <td></td>              <th>coef</th>     <th>std err</th>      <th>t</th>      <th>P>|t|</th>  <th>[0.025</th>    <th>0.975]</th>  \n",
       "</tr>\n",
       "<tr>\n",
       "  <th>const</th>               <td>    8.4960</td> <td>    0.136</td> <td>   62.691</td> <td> 0.000</td> <td>    8.230</td> <td>    8.762</td>\n",
       "</tr>\n",
       "<tr>\n",
       "  <th>CANTIDAD</th>            <td>   -1.4673</td> <td>    0.014</td> <td> -107.673</td> <td> 0.000</td> <td>   -1.494</td> <td>   -1.441</td>\n",
       "</tr>\n",
       "<tr>\n",
       "  <th>M</th>                   <td>   -4.9963</td> <td>    0.095</td> <td>  -52.866</td> <td> 0.000</td> <td>   -5.182</td> <td>   -4.811</td>\n",
       "</tr>\n",
       "<tr>\n",
       "  <th>ARMA DE FUEGO</th>       <td>   -4.6004</td> <td>    0.316</td> <td>  -14.565</td> <td> 0.000</td> <td>   -5.219</td> <td>   -3.981</td>\n",
       "</tr>\n",
       "<tr>\n",
       "  <th>CONTUNDENTES</th>        <td>    7.4372</td> <td>    0.152</td> <td>   48.953</td> <td> 0.000</td> <td>    7.139</td> <td>    7.735</td>\n",
       "</tr>\n",
       "<tr>\n",
       "  <th>CORTANTES</th>           <td>   -4.3644</td> <td>    0.649</td> <td>   -6.729</td> <td> 0.000</td> <td>   -5.636</td> <td>   -3.093</td>\n",
       "</tr>\n",
       "<tr>\n",
       "  <th>CORTOPUNZANTES</th>      <td>   -4.5104</td> <td>    0.665</td> <td>   -6.783</td> <td> 0.000</td> <td>   -5.814</td> <td>   -3.207</td>\n",
       "</tr>\n",
       "<tr>\n",
       "  <th>ESCOPOLAMINA</th>        <td>   -2.2462</td> <td>    0.274</td> <td>   -8.185</td> <td> 0.000</td> <td>   -2.784</td> <td>   -1.708</td>\n",
       "</tr>\n",
       "<tr>\n",
       "  <th>NO REPORTA</th>          <td>   -4.2301</td> <td>    0.398</td> <td>  -10.641</td> <td> 0.000</td> <td>   -5.009</td> <td>   -3.451</td>\n",
       "</tr>\n",
       "<tr>\n",
       "  <th>NO REPORTADO</th>        <td>    6.6725</td> <td>    0.178</td> <td>   37.385</td> <td> 0.000</td> <td>    6.323</td> <td>    7.022</td>\n",
       "</tr>\n",
       "<tr>\n",
       "  <th>PUNZANTES</th>           <td>   -4.2862</td> <td>    1.750</td> <td>   -2.450</td> <td> 0.014</td> <td>   -7.716</td> <td>   -0.857</td>\n",
       "</tr>\n",
       "<tr>\n",
       "  <th>SIN EMPLEO DE ARMAS</th> <td>    6.2127</td> <td>    0.152</td> <td>   40.755</td> <td> 0.000</td> <td>    5.914</td> <td>    6.512</td>\n",
       "</tr>\n",
       "</table>\n",
       "<table class=\"simpletable\">\n",
       "<tr>\n",
       "  <th>Omnibus:</th>       <td>72399.064</td> <th>  Durbin-Watson:     </th>  <td>   1.828</td>  \n",
       "</tr>\n",
       "<tr>\n",
       "  <th>Prob(Omnibus):</th>  <td> 0.000</td>   <th>  Jarque-Bera (JB):  </th> <td>7876940.013</td>\n",
       "</tr>\n",
       "<tr>\n",
       "  <th>Skew:</th>           <td> 5.089</td>   <th>  Prob(JB):          </th>  <td>    0.00</td>  \n",
       "</tr>\n",
       "<tr>\n",
       "  <th>Kurtosis:</th>       <td>54.208</td>   <th>  Cond. No.          </th>  <td>    196.</td>  \n",
       "</tr>\n",
       "</table><br/><br/>Notes:<br/>[1] Standard Errors assume that the covariance matrix of the errors is correctly specified."
      ],
      "text/latex": [
       "\\begin{center}\n",
       "\\begin{tabular}{lclc}\n",
       "\\toprule\n",
       "\\textbf{Dep. Variable:}      & Number of domestic violence & \\textbf{  R-squared:         } &      0.180   \\\\\n",
       "\\textbf{Model:}              &             OLS             & \\textbf{  Adj. R-squared:    } &      0.180   \\\\\n",
       "\\textbf{Method:}             &        Least Squares        & \\textbf{  F-statistic:       } &      1384.   \\\\\n",
       "\\textbf{Date:}               &       Tue, 03 Oct 2023      & \\textbf{  Prob (F-statistic):} &      0.00    \\\\\n",
       "\\textbf{Time:}               &           07:05:43          & \\textbf{  Log-Likelihood:    } & -2.6902e+05  \\\\\n",
       "\\textbf{No. Observations:}   &             69352           & \\textbf{  AIC:               } &  5.381e+05   \\\\\n",
       "\\textbf{Df Residuals:}       &             69340           & \\textbf{  BIC:               } &  5.382e+05   \\\\\n",
       "\\textbf{Df Model:}           &                11           & \\textbf{                     } &              \\\\\n",
       "\\textbf{Covariance Type:}    &          nonrobust          & \\textbf{                     } &              \\\\\n",
       "\\bottomrule\n",
       "\\end{tabular}\n",
       "\\begin{tabular}{lcccccc}\n",
       "                             & \\textbf{coef} & \\textbf{std err} & \\textbf{t} & \\textbf{P$> |$t$|$} & \\textbf{[0.025} & \\textbf{0.975]}  \\\\\n",
       "\\midrule\n",
       "\\textbf{const}               &       8.4960  &        0.136     &    62.691  &         0.000        &        8.230    &        8.762     \\\\\n",
       "\\textbf{CANTIDAD}            &      -1.4673  &        0.014     &  -107.673  &         0.000        &       -1.494    &       -1.441     \\\\\n",
       "\\textbf{M}                   &      -4.9963  &        0.095     &   -52.866  &         0.000        &       -5.182    &       -4.811     \\\\\n",
       "\\textbf{ARMA DE FUEGO}       &      -4.6004  &        0.316     &   -14.565  &         0.000        &       -5.219    &       -3.981     \\\\\n",
       "\\textbf{CONTUNDENTES}        &       7.4372  &        0.152     &    48.953  &         0.000        &        7.139    &        7.735     \\\\\n",
       "\\textbf{CORTANTES}           &      -4.3644  &        0.649     &    -6.729  &         0.000        &       -5.636    &       -3.093     \\\\\n",
       "\\textbf{CORTOPUNZANTES}      &      -4.5104  &        0.665     &    -6.783  &         0.000        &       -5.814    &       -3.207     \\\\\n",
       "\\textbf{ESCOPOLAMINA}        &      -2.2462  &        0.274     &    -8.185  &         0.000        &       -2.784    &       -1.708     \\\\\n",
       "\\textbf{NO REPORTA}          &      -4.2301  &        0.398     &   -10.641  &         0.000        &       -5.009    &       -3.451     \\\\\n",
       "\\textbf{NO REPORTADO}        &       6.6725  &        0.178     &    37.385  &         0.000        &        6.323    &        7.022     \\\\\n",
       "\\textbf{PUNZANTES}           &      -4.2862  &        1.750     &    -2.450  &         0.014        &       -7.716    &       -0.857     \\\\\n",
       "\\textbf{SIN EMPLEO DE ARMAS} &       6.2127  &        0.152     &    40.755  &         0.000        &        5.914    &        6.512     \\\\\n",
       "\\bottomrule\n",
       "\\end{tabular}\n",
       "\\begin{tabular}{lclc}\n",
       "\\textbf{Omnibus:}       & 72399.064 & \\textbf{  Durbin-Watson:     } &      1.828   \\\\\n",
       "\\textbf{Prob(Omnibus):} &    0.000  & \\textbf{  Jarque-Bera (JB):  } & 7876940.013  \\\\\n",
       "\\textbf{Skew:}          &    5.089  & \\textbf{  Prob(JB):          } &       0.00   \\\\\n",
       "\\textbf{Kurtosis:}      &   54.208  & \\textbf{  Cond. No.          } &       196.   \\\\\n",
       "\\bottomrule\n",
       "\\end{tabular}\n",
       "%\\caption{OLS Regression Results}\n",
       "\\end{center}\n",
       "\n",
       "Notes: \\newline\n",
       " [1] Standard Errors assume that the covariance matrix of the errors is correctly specified."
      ],
      "text/plain": [
       "<class 'statsmodels.iolib.summary.Summary'>\n",
       "\"\"\"\n",
       "                                 OLS Regression Results                                \n",
       "=======================================================================================\n",
       "Dep. Variable:     Number of domestic violence   R-squared:                       0.180\n",
       "Model:                                     OLS   Adj. R-squared:                  0.180\n",
       "Method:                          Least Squares   F-statistic:                     1384.\n",
       "Date:                         Tue, 03 Oct 2023   Prob (F-statistic):               0.00\n",
       "Time:                                 07:05:43   Log-Likelihood:            -2.6902e+05\n",
       "No. Observations:                        69352   AIC:                         5.381e+05\n",
       "Df Residuals:                            69340   BIC:                         5.382e+05\n",
       "Df Model:                                   11                                         \n",
       "Covariance Type:                     nonrobust                                         \n",
       "=======================================================================================\n",
       "                          coef    std err          t      P>|t|      [0.025      0.975]\n",
       "---------------------------------------------------------------------------------------\n",
       "const                   8.4960      0.136     62.691      0.000       8.230       8.762\n",
       "CANTIDAD               -1.4673      0.014   -107.673      0.000      -1.494      -1.441\n",
       "M                      -4.9963      0.095    -52.866      0.000      -5.182      -4.811\n",
       "ARMA DE FUEGO          -4.6004      0.316    -14.565      0.000      -5.219      -3.981\n",
       "CONTUNDENTES            7.4372      0.152     48.953      0.000       7.139       7.735\n",
       "CORTANTES              -4.3644      0.649     -6.729      0.000      -5.636      -3.093\n",
       "CORTOPUNZANTES         -4.5104      0.665     -6.783      0.000      -5.814      -3.207\n",
       "ESCOPOLAMINA           -2.2462      0.274     -8.185      0.000      -2.784      -1.708\n",
       "NO REPORTA             -4.2301      0.398    -10.641      0.000      -5.009      -3.451\n",
       "NO REPORTADO            6.6725      0.178     37.385      0.000       6.323       7.022\n",
       "PUNZANTES              -4.2862      1.750     -2.450      0.014      -7.716      -0.857\n",
       "SIN EMPLEO DE ARMAS     6.2127      0.152     40.755      0.000       5.914       6.512\n",
       "==============================================================================\n",
       "Omnibus:                    72399.064   Durbin-Watson:                   1.828\n",
       "Prob(Omnibus):                  0.000   Jarque-Bera (JB):          7876940.013\n",
       "Skew:                           5.089   Prob(JB):                         0.00\n",
       "Kurtosis:                      54.208   Cond. No.                         196.\n",
       "==============================================================================\n",
       "\n",
       "Notes:\n",
       "[1] Standard Errors assume that the covariance matrix of the errors is correctly specified.\n",
       "\"\"\""
      ]
     },
     "execution_count": 13,
     "metadata": {},
     "output_type": "execute_result"
    }
   ],
   "source": [
    "!pip install statsmodels\n",
    "import pandas as pd\n",
    "import statsmodels.api as sm\n",
    "# Convert a Spark DataFrame to a pandas DataFrame\n",
    "df1_pd = df1.toPandas()\n",
    "X_genres = pd.get_dummies(df1_pd['GENERO'], drop_first=True, dtype=int)\n",
    "X_arms = pd.get_dummies(df1_pd['ARMAS MEDIOS'], drop_first=True, dtype=int)\n",
    "\n",
    "df_encoded = pd.concat([df1_pd, X_genres, X_arms], axis=1)\n",
    "\n",
    "df_encoded.drop(['GENERO', 'ARMAS MEDIOS','FECHA HECHO'], axis=1, inplace=True)\n",
    "\n",
    "y = df_encoded['Number of domestic violence']\n",
    "\n",
    "X = df_encoded.drop('Number of domestic violence', axis=1)\n",
    "X = sm.add_constant(X)  \n",
    "\n",
    "model = sm.OLS(y, X).fit()\n",
    "model.summary()\n",
    "\n"
   ]
  },
  {
   "cell_type": "code",
   "execution_count": 3,
   "id": "3eb4f83c",
   "metadata": {},
   "outputs": [
    {
     "name": "stderr",
     "output_type": "stream",
     "text": [
      "\r",
      "[Stage 4:>                                                          (0 + 1) / 1]\r"
     ]
    },
    {
     "name": "stdout",
     "output_type": "stream",
     "text": [
      " 'ARMAS MEDIOS' column: ['ARMA DE FUEGO', 'ESCOPOLAMINA', 'SIN EMPLEO DE ARMAS', 'ARMA BLANCA / CORTOPUNZANTE', 'NO REPORTADO', 'CONTUNDENTES', 'CORTANTES', 'CORTOPUNZANTES', 'NO REPORTA', 'PUNZANTES']\n"
     ]
    },
    {
     "name": "stderr",
     "output_type": "stream",
     "text": [
      "\r",
      "                                                                                \r"
     ]
    }
   ],
   "source": [
    "unique_values_armas = df1.select('ARMAS MEDIOS').distinct().rdd.flatMap(lambda x: x).collect()\n",
    "print(\" 'ARMAS MEDIOS' column:\", unique_values_armas)"
   ]
  },
  {
   "cell_type": "code",
   "execution_count": 17,
   "id": "f032f259",
   "metadata": {},
   "outputs": [],
   "source": [
    "from pyspark.sql.functions import when, col\n",
    "\n",
    "df1 = df1.withColumn('Weapon Used',\n",
    "                     when(col('ARMAS MEDIOS').isin([\"ARMA BLANCA / CORTOPUNZANTE\", \"ARMA DE FUEGO\", \"CONTUNDENTES\", \"CORTANTES\",\n",
    "                                                      \"CORTOPUNZANTES\", \"ESCOPOLAMINA\", 'PUNZANTES']),\n",
    "                          \"Using weapons and substances with a certain degree of harm\")\n",
    "                     .when(col('ARMAS MEDIOS').isin([\"NO REPORTA\", \"NO REPORTADO\"]), \"Unknown\")\n",
    "                     .when(col('ARMAS MEDIOS') == \"SIN EMPLEO DE ARMAS\", \"No Weapon or Substance Used\")\n",
    "                     .otherwise(\"Unknown\"))\n",
    "\n",
    "df1 = df1.drop('ARMAS MEDIOS')\n"
   ]
  },
  {
   "cell_type": "code",
   "execution_count": 18,
   "id": "0d7961a8",
   "metadata": {},
   "outputs": [
    {
     "name": "stdout",
     "output_type": "stream",
     "text": [
      "+-----------+--------+------+---------------------------+--------------------+\n",
      "|FECHA HECHO|CANTIDAD|GENERO|Number of domestic violence|         Weapon Used|\n",
      "+-----------+--------+------+---------------------------+--------------------+\n",
      "| 2015-01-01|       1|     F|                          4|             Unknown|\n",
      "| 2015-01-01|      10|     M|                          1|Using weapons and...|\n",
      "| 2015-01-01|       1|     M|                          1|Using weapons and...|\n",
      "| 2015-01-01|       3|     F|                          8|Using weapons and...|\n",
      "| 2015-01-01|      10|     F|                          2|No Weapon or Subs...|\n",
      "| 2015-01-01|       5|     F|                          2|Using weapons and...|\n",
      "| 2015-01-01|       2|     F|                          2|No Weapon or Subs...|\n",
      "| 2015-01-01|       2|     M|                          3|Using weapons and...|\n",
      "| 2015-01-01|      16|     F|                          1|Using weapons and...|\n",
      "| 2015-01-01|       3|     F|                          1|No Weapon or Subs...|\n",
      "| 2015-01-01|      14|     F|                          1|Using weapons and...|\n",
      "| 2015-01-01|       3|     M|                          2|Using weapons and...|\n",
      "| 2015-01-01|       1|     F|                         24|No Weapon or Subs...|\n",
      "| 2015-01-01|       6|     F|                          4|Using weapons and...|\n",
      "| 2015-01-01|       2|     F|                          7|Using weapons and...|\n",
      "| 2015-01-01|       2|     M|                          2|No Weapon or Subs...|\n",
      "| 2015-01-01|       1|     F|                         65|Using weapons and...|\n",
      "| 2015-01-01|       4|     F|                          2|Using weapons and...|\n",
      "| 2015-01-01|       1|     F|                          1|Using weapons and...|\n",
      "| 2015-01-01|       1|     F|                          1|Using weapons and...|\n",
      "+-----------+--------+------+---------------------------+--------------------+\n",
      "only showing top 20 rows\n",
      "\n"
     ]
    }
   ],
   "source": [
    "df1.show()"
   ]
  },
  {
   "cell_type": "code",
   "execution_count": 19,
   "id": "fa458a3f",
   "metadata": {},
   "outputs": [
    {
     "name": "stdout",
     "output_type": "stream",
     "text": [
      " 'weapon' column: ['Unknown', 'Using weapons and substances with a certain degree of harm', 'No Weapon or Substance Used']\n"
     ]
    }
   ],
   "source": [
    "unique_values_armas = df1.select('Weapon used').distinct().rdd.flatMap(lambda x: x).collect()\n",
    "print(\" 'weapon' column:\", unique_values_armas)"
   ]
  },
  {
   "cell_type": "code",
   "execution_count": 22,
   "id": "5bfdf2ef",
   "metadata": {},
   "outputs": [],
   "source": [
    "from pyspark.sql import functions as F\n",
    "grouped = df1.groupby(['FECHA HECHO', 'CANTIDAD', 'GENERO', 'Weapon Used'])\\\n",
    "            .agg(F.sum('Number of domestic violence').alias('Total domestic violence'))\\\n",
    "            .select(['FECHA HECHO', 'CANTIDAD', 'GENERO', 'Weapon Used', 'Total domestic violence'])"
   ]
  },
  {
   "cell_type": "code",
   "execution_count": 24,
   "id": "67bdddf6",
   "metadata": {},
   "outputs": [
    {
     "name": "stderr",
     "output_type": "stream",
     "text": [
      "[Stage 35:>                                                         (0 + 1) / 1]\r"
     ]
    },
    {
     "name": "stdout",
     "output_type": "stream",
     "text": [
      "+-------+-----------+------------------+------+--------------------+-----------------------+\n",
      "|summary|FECHA HECHO|          CANTIDAD|GENERO|         Weapon Used|Total domestic violence|\n",
      "+-------+-----------+------------------+------+--------------------+-----------------------+\n",
      "|  count|      56832|             56832| 56832|               56832|                  56832|\n",
      "|   mean|       null|3.9417053772522523|  null|                null|      8.211553350225225|\n",
      "| stddev|       null|3.6173151565087447|  null|                null|     15.789425843555712|\n",
      "|    min| 2015-01-01|                 1|     F|No Weapon or Subs...|                    1.0|\n",
      "|    max| 2023-02-28|                 9|     M|Using weapons and...|                  443.0|\n",
      "+-------+-----------+------------------+------+--------------------+-----------------------+\n",
      "\n"
     ]
    },
    {
     "name": "stderr",
     "output_type": "stream",
     "text": [
      "\r",
      "                                                                                \r"
     ]
    }
   ],
   "source": [
    "grouped.describe().show()"
   ]
  },
  {
   "cell_type": "code",
   "execution_count": 25,
   "id": "71684c53",
   "metadata": {},
   "outputs": [],
   "source": [
    "grouped.write.csv('dataset3', header=True)"
   ]
  },
  {
   "cell_type": "code",
   "execution_count": 27,
   "id": "a8d73a7d",
   "metadata": {},
   "outputs": [
    {
     "name": "stdout",
     "output_type": "stream",
     "text": [
      "+-----------+------+---------------------+---------------------+--------------------+-----------+-----+\n",
      "|    Country|Gender|Demographics Question|Demographics Response|            Question|Survey Year|Value|\n",
      "+-----------+------+---------------------+---------------------+--------------------+-----------+-----+\n",
      "|Afghanistan|     F|            Education|               Higher|... if she burns ...| 01/01/2015| 10.1|\n",
      "|Afghanistan|     F|            Education|            Secondary|... if she burns ...| 01/01/2015| 13.7|\n",
      "|Afghanistan|     F|            Education|              Primary|... if she burns ...| 01/01/2015| 13.8|\n",
      "|Afghanistan|     F|       Marital status| Widowed, divorced...|... if she burns ...| 01/01/2015| 13.8|\n",
      "|Afghanistan|     F|           Employment|    Employed for kind|... if she burns ...| 01/01/2015| 17.0|\n",
      "|Afghanistan|     F|                  Age|                15-24|... if she burns ...| 01/01/2015| 17.3|\n",
      "|Afghanistan|     F|           Employment|           Unemployed|... if she burns ...| 01/01/2015| 18.0|\n",
      "|Afghanistan|     F|            Residence|                Rural|... if she burns ...| 01/01/2015| 18.1|\n",
      "|Afghanistan|     F|                  Age|                25-34|... if she burns ...| 01/01/2015| 18.2|\n",
      "|Afghanistan|     F|       Marital status| Married or living...|... if she burns ...| 01/01/2015| 18.3|\n",
      "|Afghanistan|     F|            Residence|                Urban|... if she burns ...| 01/01/2015| 18.3|\n",
      "|Afghanistan|     F|                  Age|                35-49|... if she burns ...| 01/01/2015| 18.8|\n",
      "|Afghanistan|     F|            Education|         No education|... if she burns ...| 01/01/2015| 19.1|\n",
      "|Afghanistan|     F|           Employment|    Employed for cash|... if she burns ...| 01/01/2015| 20.8|\n",
      "|Afghanistan|     M|            Education|               Higher|... if she burns ...| 01/01/2015|  4.5|\n",
      "|Afghanistan|     M|            Residence|                Urban|... if she burns ...| 01/01/2015|  4.6|\n",
      "|Afghanistan|     M|           Employment|           Unemployed|... if she burns ...| 01/01/2015|  5.2|\n",
      "|Afghanistan|     M|            Education|              Primary|... if she burns ...| 01/01/2015|  6.3|\n",
      "|Afghanistan|     M|       Marital status| Widowed, divorced...|... if she burns ...| 01/01/2015|  6.3|\n",
      "|Afghanistan|     M|            Education|            Secondary|... if she burns ...| 01/01/2015|  7.1|\n",
      "+-----------+------+---------------------+---------------------+--------------------+-----------+-----+\n",
      "only showing top 20 rows\n",
      "\n"
     ]
    },
    {
     "name": "stderr",
     "output_type": "stream",
     "text": [
      "\r",
      "[Stage 25:>                                                         (0 + 1) / 1]\r"
     ]
    },
    {
     "name": "stdout",
     "output_type": "stream",
     "text": [
      "+-------+-----------+------+---------------------+---------------------+--------------------+-----------+------------------+\n",
      "|summary|    Country|Gender|Demographics Question|Demographics Response|            Question|Survey Year|             Value|\n",
      "+-------+-----------+------+---------------------+---------------------+--------------------+-----------+------------------+\n",
      "|  count|      11187| 11187|                11187|                11187|               11187|      11187|             11187|\n",
      "|   mean|       null|  null|                 null|                 null|                null|       null| 19.76253687315632|\n",
      "| stddev|       null|  null|                 null|                 null|                null|       null|16.986436699740587|\n",
      "|    min|Afghanistan|     F|                  Age|                15-24|... for at least ...| 01/01/2000|               0.0|\n",
      "|    max|   Zimbabwe|     M|            Residence| Widowed, divorced...|... if she refuse...| 01/01/2018|               9.9|\n",
      "+-------+-----------+------+---------------------+---------------------+--------------------+-----------+------------------+\n",
      "\n"
     ]
    },
    {
     "name": "stderr",
     "output_type": "stream",
     "text": [
      "\r",
      "                                                                                \r"
     ]
    }
   ],
   "source": [
    "df2 = spark.read.csv('dataset1/part-00000-ae1051b2-280a-4278-87fe-1ddf8ada7d43-c000.csv', header=True)\n",
    "df2.show()\n",
    "df2.describe().show()"
   ]
  },
  {
   "cell_type": "code",
   "execution_count": 28,
   "id": "effcad7d",
   "metadata": {},
   "outputs": [
    {
     "data": {
      "text/plain": [
       "<AxesSubplot:xlabel='Value', ylabel='Count'>"
      ]
     },
     "execution_count": 28,
     "metadata": {},
     "output_type": "execute_result"
    },
    {
     "data": {
      "image/png": "[encoded data removed]",
      "text/plain": [
       "<Figure size 432x288 with 1 Axes>"
      ]
     },
     "metadata": {
      "needs_background": "light"
     },
     "output_type": "display_data"
    }
   ],
   "source": [
    "import matplotlib.pyplot as plt\n",
    "from pyspark.sql.functions import col\n",
    "import seaborn as sns\n",
    "from pyspark.sql.types import FloatType,IntegerType\n",
    "\n",
    "df2 = df2.withColumn(\"Value\", col(\"Value\").cast(FloatType()))\n",
    "df2_pd = df2.toPandas()\n",
    "sns.histplot(df2_pd['Value'], kde=True)"
   ]
  },
  {
   "cell_type": "code",
   "execution_count": 29,
   "id": "054b0c33",
   "metadata": {},
   "outputs": [
    {
     "data": {
      "text/plain": [
       "<AxesSubplot:xlabel='Value_log', ylabel='Count'>"
      ]
     },
     "execution_count": 29,
     "metadata": {},
     "output_type": "execute_result"
    },
    {
     "data": {
      "image/png": "[encoded data removed]",
      "text/plain": [
       "<Figure size 432x288 with 1 Axes>"
      ]
     },
     "metadata": {
      "needs_background": "light"
     },
     "output_type": "display_data"
    }
   ],
   "source": [
    "from pyspark.sql.functions import col, expr\n",
    "\n",
    "#Log Transformation\n",
    "df_log = df2.withColumn(\"Value_log\", expr(\"log(Value)\"))\n",
    "df2_log = df_log.toPandas()\n",
    "sns.histplot(df2_log['Value_log'], kde=True)"
   ]
  },
  {
   "cell_type": "code",
   "execution_count": 30,
   "id": "51b0f0a0",
   "metadata": {},
   "outputs": [
    {
     "data": {
      "text/plain": [
       "<AxesSubplot:xlabel='Value_sqrt', ylabel='Count'>"
      ]
     },
     "execution_count": 30,
     "metadata": {},
     "output_type": "execute_result"
    },
    {
     "data": {
      "image/png": "[encoded data removed]",
      "text/plain": [
       "<Figure size 432x288 with 1 Axes>"
      ]
     },
     "metadata": {
      "needs_background": "light"
     },
     "output_type": "display_data"
    }
   ],
   "source": [
    "#Square Root Transformation\n",
    "df_sqrt = df2.withColumn(\"Value_sqrt\", expr(\"sqrt(Value)\"))\n",
    "df2_sqrt = df_sqrt.toPandas()\n",
    "sns.histplot(df2_sqrt['Value_sqrt'], kde=True)"
   ]
  },
  {
   "cell_type": "code",
   "execution_count": 23,
   "id": "1db44fa6",
   "metadata": {},
   "outputs": [
    {
     "name": "stdout",
     "output_type": "stream",
     "text": [
      "+-----------+------+---------------------+---------------------+--------------------+-----------+-----+\n",
      "|    Country|Gender|Demographics Question|Demographics Response|            Question|Survey Year|Value|\n",
      "+-----------+------+---------------------+---------------------+--------------------+-----------+-----+\n",
      "|Afghanistan|     F|            Education|               Higher|... if she burns ...| 01/01/2015| 10.1|\n",
      "|Afghanistan|     F|            Education|            Secondary|... if she burns ...| 01/01/2015| 13.7|\n",
      "|Afghanistan|     F|            Education|              Primary|... if she burns ...| 01/01/2015| 13.8|\n",
      "|Afghanistan|     F|       Marital status| Widowed, divorced...|... if she burns ...| 01/01/2015| 13.8|\n",
      "|Afghanistan|     F|           Employment|    Employed for kind|... if she burns ...| 01/01/2015| 17.0|\n",
      "|Afghanistan|     F|                  Age|                15-24|... if she burns ...| 01/01/2015| 17.3|\n",
      "|Afghanistan|     F|           Employment|           Unemployed|... if she burns ...| 01/01/2015| 18.0|\n",
      "|Afghanistan|     F|            Residence|                Rural|... if she burns ...| 01/01/2015| 18.1|\n",
      "|Afghanistan|     F|                  Age|                25-34|... if she burns ...| 01/01/2015| 18.2|\n",
      "|Afghanistan|     F|       Marital status| Married or living...|... if she burns ...| 01/01/2015| 18.3|\n",
      "|Afghanistan|     F|            Residence|                Urban|... if she burns ...| 01/01/2015| 18.3|\n",
      "|Afghanistan|     F|                  Age|                35-49|... if she burns ...| 01/01/2015| 18.8|\n",
      "|Afghanistan|     F|            Education|         No education|... if she burns ...| 01/01/2015| 19.1|\n",
      "|Afghanistan|     F|           Employment|    Employed for cash|... if she burns ...| 01/01/2015| 20.8|\n",
      "|Afghanistan|     M|            Education|               Higher|... if she burns ...| 01/01/2015|  4.5|\n",
      "|Afghanistan|     M|            Residence|                Urban|... if she burns ...| 01/01/2015|  4.6|\n",
      "|Afghanistan|     M|           Employment|           Unemployed|... if she burns ...| 01/01/2015|  5.2|\n",
      "|Afghanistan|     M|            Education|              Primary|... if she burns ...| 01/01/2015|  6.3|\n",
      "|Afghanistan|     M|       Marital status| Widowed, divorced...|... if she burns ...| 01/01/2015|  6.3|\n",
      "|Afghanistan|     M|            Education|            Secondary|... if she burns ...| 01/01/2015|  7.1|\n",
      "+-----------+------+---------------------+---------------------+--------------------+-----------+-----+\n",
      "only showing top 20 rows\n",
      "\n"
     ]
    }
   ],
   "source": [
    "df2.show()"
   ]
  },
  {
   "cell_type": "code",
   "execution_count": 31,
   "id": "90b7f017",
   "metadata": {},
   "outputs": [
    {
     "name": "stdout",
     "output_type": "stream",
     "text": [
      "+-----------+------+---------------------+---------------------+--------------------+-----------+------------------+\n",
      "|    Country|Gender|Demographics Question|Demographics Response|            Question|Survey Year|             Value|\n",
      "+-----------+------+---------------------+---------------------+--------------------+-----------+------------------+\n",
      "|Afghanistan|     F|            Education|               Higher|... if she burns ...| 01/01/2015|3.1780497764304645|\n",
      "|Afghanistan|     F|            Education|            Secondary|... if she burns ...| 01/01/2015|3.7013510788987767|\n",
      "|Afghanistan|     F|            Education|              Primary|... if she burns ...| 01/01/2015|3.7148351498733914|\n",
      "|Afghanistan|     F|       Marital status| Widowed, divorced...|... if she burns ...| 01/01/2015|3.7148351498733914|\n",
      "|Afghanistan|     F|           Employment|    Employed for kind|... if she burns ...| 01/01/2015| 4.123105625617661|\n",
      "|Afghanistan|     F|                  Age|                15-24|... if she burns ...| 01/01/2015| 4.159326776902789|\n",
      "|Afghanistan|     F|           Employment|           Unemployed|... if she burns ...| 01/01/2015| 4.242640687119285|\n",
      "|Afghanistan|     F|            Residence|                Rural|... if she burns ...| 01/01/2015| 4.254409522068806|\n",
      "|Afghanistan|     F|                  Age|                25-34|... if she burns ...| 01/01/2015| 4.266145890958191|\n",
      "|Afghanistan|     F|       Marital status| Married or living...|... if she burns ...| 01/01/2015| 4.277849838068249|\n",
      "|Afghanistan|     F|            Residence|                Urban|... if she burns ...| 01/01/2015| 4.277849838068249|\n",
      "|Afghanistan|     F|                  Age|                35-49|... if she burns ...| 01/01/2015| 4.335896589756327|\n",
      "|Afghanistan|     F|            Education|         No education|... if she burns ...| 01/01/2015| 4.370354720325311|\n",
      "|Afghanistan|     F|           Employment|    Employed for cash|... if she burns ...| 01/01/2015|  4.56070161675378|\n",
      "|Afghanistan|     M|            Education|               Higher|... if she burns ...| 01/01/2015|2.1213203435596424|\n",
      "|Afghanistan|     M|            Residence|                Urban|... if she burns ...| 01/01/2015|2.1447610367200745|\n",
      "|Afghanistan|     M|           Employment|           Unemployed|... if she burns ...| 01/01/2015|  2.28035080837689|\n",
      "|Afghanistan|     M|            Education|              Primary|... if she burns ...| 01/01/2015|2.5099801175975207|\n",
      "|Afghanistan|     M|       Marital status| Widowed, divorced...|... if she burns ...| 01/01/2015|2.5099801175975207|\n",
      "|Afghanistan|     M|            Education|            Secondary|... if she burns ...| 01/01/2015|2.6645825009994657|\n",
      "+-----------+------+---------------------+---------------------+--------------------+-----------+------------------+\n",
      "only showing top 20 rows\n",
      "\n"
     ]
    }
   ],
   "source": [
    "df3 = df2.withColumn(\"Value\", expr(\"sqrt(Value)\"))\n",
    "df3.show()"
   ]
  },
  {
   "cell_type": "code",
   "execution_count": 32,
   "id": "388d23f3",
   "metadata": {},
   "outputs": [
    {
     "data": {
      "text/plain": [
       "<AxesSubplot:xlabel='Value', ylabel='Count'>"
      ]
     },
     "execution_count": 32,
     "metadata": {},
     "output_type": "execute_result"
    },
    {
     "data": {
      "image/png": "[encoded data removed]",
      "text/plain": [
       "<Figure size 432x288 with 1 Axes>"
      ]
     },
     "metadata": {
      "needs_background": "light"
     },
     "output_type": "display_data"
    }
   ],
   "source": [
    "df3_pd = df3.toPandas()\n",
    "sns.histplot(df3_pd['Value'], kde=True)"
   ]
  },
  {
   "cell_type": "code",
   "execution_count": 33,
   "id": "3beaa3a7",
   "metadata": {},
   "outputs": [],
   "source": [
    "df3.write.csv('dataset1-1', header=True)"
   ]
  },
  {
   "cell_type": "code",
   "execution_count": null,
   "id": "86f9b0c9",
   "metadata": {},
   "outputs": [],
   "source": []
  }
 ],
 "metadata": {
  "kernelspec": {
   "display_name": "Python 3 (ipykernel)",
   "language": "python",
   "name": "python3"
  },
  "language_info": {
   "codemirror_mode": {
    "name": "ipython",
    "version": 3
   },
   "file_extension": ".py",
   "mimetype": "text/x-python",
   "name": "python",
   "nbconvert_exporter": "python",
   "pygments_lexer": "ipython3",
   "version": "3.10.4"
  }
 },
 "nbformat": 4,
 "nbformat_minor": 5
}
