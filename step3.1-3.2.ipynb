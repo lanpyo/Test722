{
 "cells": [
  {
   "cell_type": "code",
   "execution_count": 1,
   "id": "dadb9600",
   "metadata": {},
   "outputs": [
    {
     "name": "stderr",
     "output_type": "stream",
     "text": [
      "WARNING: An illegal reflective access operation has occurred\n",
      "WARNING: Illegal reflective access by org.apache.spark.unsafe.Platform (file:/home/ubuntu/spark-3.2.1-bin-hadoop2.7/jars/spark-unsafe_2.12-3.2.1.jar) to constructor java.nio.DirectByteBuffer(long,int)\n",
      "WARNING: Please consider reporting this to the maintainers of org.apache.spark.unsafe.Platform\n",
      "WARNING: Use --illegal-access=warn to enable warnings of further illegal reflective access operations\n",
      "WARNING: All illegal access operations will be denied in a future release\n",
      "Using Spark's default log4j profile: org/apache/spark/log4j-defaults.properties\n",
      "Setting default log level to \"WARN\".\n",
      "To adjust logging level use sc.setLogLevel(newLevel). For SparkR, use setLogLevel(newLevel).\n",
      "23/10/03 07:37:40 WARN NativeCodeLoader: Unable to load native-hadoop library for your platform... using builtin-java classes where applicable\n",
      "23/10/03 07:37:41 WARN Utils: Service 'SparkUI' could not bind on port 4040. Attempting port 4041.\n"
     ]
    }
   ],
   "source": [
    "import findspark\n",
    "findspark.init('/home/ubuntu/spark-3.2.1-bin-hadoop2.7')\n",
    "import pyspark\n",
    "from pyspark.sql import SparkSession\n",
    "spark = SparkSession.builder.appName('basics').getOrCreate()"
   ]
  },
  {
   "cell_type": "code",
   "execution_count": 2,
   "id": "659e8e23",
   "metadata": {},
   "outputs": [],
   "source": [
    "df1 = spark.read.csv('violence_data.csv', header=True)\n",
    "df2 = spark.read.csv('Reporte_Delito_Violencia_Intrafamiliar_Polic_a_Nacional.csv', header=True)\n",
    "from pyspark.sql.functions import col\n",
    "from pyspark.sql.types import FloatType,IntegerType\n",
    "\n",
    "# Change the data type using the withColumn method\n",
    "df1 = df1.withColumn(\"Value\", col(\"Value\").cast(FloatType()))\n",
    "df1 = df1.withColumn(\"RecordID\", col(\"RecordID\").cast(IntegerType()))\n",
    "df2 = df2.withColumn(\"CANTIDAD\", col(\"CANTIDAD\").cast(IntegerType()))"
   ]
  },
  {
   "cell_type": "code",
   "execution_count": 3,
   "id": "421f9132",
   "metadata": {},
   "outputs": [
    {
     "name": "stdout",
     "output_type": "stream",
     "text": [
      "root\n",
      " |-- RecordID: integer (nullable = true)\n",
      " |-- Country: string (nullable = true)\n",
      " |-- Gender: string (nullable = true)\n",
      " |-- Demographics Question: string (nullable = true)\n",
      " |-- Demographics Response: string (nullable = true)\n",
      " |-- Question: string (nullable = true)\n",
      " |-- Survey Year: string (nullable = true)\n",
      " |-- Value: float (nullable = true)\n",
      "\n",
      "root\n",
      " |-- DEPARTAMENTO: string (nullable = true)\n",
      " |-- MUNICIPIO: string (nullable = true)\n",
      " |-- CODIGO DANE: string (nullable = true)\n",
      " |-- ARMAS MEDIOS: string (nullable = true)\n",
      " |-- FECHA HECHO: string (nullable = true)\n",
      " |-- GENERO: string (nullable = true)\n",
      " |-- GRUPO ETARIO: string (nullable = true)\n",
      " |-- CANTIDAD: integer (nullable = true)\n",
      "\n"
     ]
    }
   ],
   "source": [
    "df1.printSchema()\n",
    "df2.printSchema()"
   ]
  },
  {
   "cell_type": "code",
   "execution_count": 4,
   "id": "8a99a30c",
   "metadata": {},
   "outputs": [],
   "source": [
    "columns_to_drop = ['DEPARTAMENTO', 'MUNICIPIO', 'CODIGO DANE', 'GRUPO ETARIO']\n",
    "df1 = df1.drop('RecordID')\n",
    "df2 = df2.select([col for col in df2.columns if col not in columns_to_drop])"
   ]
  },
  {
   "cell_type": "code",
   "execution_count": 5,
   "id": "0f4a0c68",
   "metadata": {},
   "outputs": [
    {
     "name": "stdout",
     "output_type": "stream",
     "text": [
      "+-----------+------+---------------------+---------------------+--------------------+-----------+-----+\n",
      "|    Country|Gender|Demographics Question|Demographics Response|            Question|Survey Year|Value|\n",
      "+-----------+------+---------------------+---------------------+--------------------+-----------+-----+\n",
      "|Afghanistan|     F|       Marital status|        Never married|... if she burns ...| 01/01/2015| null|\n",
      "|Afghanistan|     F|            Education|               Higher|... if she burns ...| 01/01/2015| 10.1|\n",
      "|Afghanistan|     F|            Education|            Secondary|... if she burns ...| 01/01/2015| 13.7|\n",
      "|Afghanistan|     F|            Education|              Primary|... if she burns ...| 01/01/2015| 13.8|\n",
      "|Afghanistan|     F|       Marital status| Widowed, divorced...|... if she burns ...| 01/01/2015| 13.8|\n",
      "|Afghanistan|     F|           Employment|    Employed for kind|... if she burns ...| 01/01/2015| 17.0|\n",
      "|Afghanistan|     F|                  Age|                15-24|... if she burns ...| 01/01/2015| 17.3|\n",
      "|Afghanistan|     F|           Employment|           Unemployed|... if she burns ...| 01/01/2015| 18.0|\n",
      "|Afghanistan|     F|            Residence|                Rural|... if she burns ...| 01/01/2015| 18.1|\n",
      "|Afghanistan|     F|                  Age|                25-34|... if she burns ...| 01/01/2015| 18.2|\n",
      "|Afghanistan|     F|       Marital status| Married or living...|... if she burns ...| 01/01/2015| 18.3|\n",
      "|Afghanistan|     F|            Residence|                Urban|... if she burns ...| 01/01/2015| 18.3|\n",
      "|Afghanistan|     F|                  Age|                35-49|... if she burns ...| 01/01/2015| 18.8|\n",
      "|Afghanistan|     F|            Education|         No education|... if she burns ...| 01/01/2015| 19.1|\n",
      "|Afghanistan|     F|           Employment|    Employed for cash|... if she burns ...| 01/01/2015| 20.8|\n",
      "|Afghanistan|     M|       Marital status|        Never married|... if she burns ...| 01/01/2015| null|\n",
      "|Afghanistan|     M|            Education|               Higher|... if she burns ...| 01/01/2015|  4.5|\n",
      "|Afghanistan|     M|            Residence|                Urban|... if she burns ...| 01/01/2015|  4.6|\n",
      "|Afghanistan|     M|           Employment|           Unemployed|... if she burns ...| 01/01/2015|  5.2|\n",
      "|Afghanistan|     M|            Education|              Primary|... if she burns ...| 01/01/2015|  6.3|\n",
      "+-----------+------+---------------------+---------------------+--------------------+-----------+-----+\n",
      "only showing top 20 rows\n",
      "\n",
      "+--------------------+-----------+---------+--------+\n",
      "|        ARMAS MEDIOS|FECHA HECHO|   GENERO|CANTIDAD|\n",
      "+--------------------+-----------+---------+--------+\n",
      "|ARMA BLANCA / COR...|  1/01/2010|MASCULINO|       1|\n",
      "|ARMA BLANCA / COR...|  1/01/2010| FEMENINO|       1|\n",
      "|ARMA BLANCA / COR...|  1/01/2010|MASCULINO|       1|\n",
      "|ARMA BLANCA / COR...|  1/01/2010| FEMENINO|       1|\n",
      "|ARMA BLANCA / COR...|  1/01/2010| FEMENINO|       1|\n",
      "|ARMA BLANCA / COR...|  1/01/2010| FEMENINO|       1|\n",
      "|ARMA BLANCA / COR...|  1/01/2010| FEMENINO|       2|\n",
      "|ARMA BLANCA / COR...|  1/01/2010|MASCULINO|       2|\n",
      "|ARMA BLANCA / COR...|  1/01/2010| FEMENINO|       1|\n",
      "|       ARMA DE FUEGO|  1/01/2010| FEMENINO|       1|\n",
      "|        CONTUNDENTES|  1/01/2010| FEMENINO|       1|\n",
      "|        CONTUNDENTES|  1/01/2010| FEMENINO|       2|\n",
      "|        CONTUNDENTES|  1/01/2010| FEMENINO|       1|\n",
      "|        CONTUNDENTES|  1/01/2010| FEMENINO|       3|\n",
      "|        CONTUNDENTES|  1/01/2010|MASCULINO|       1|\n",
      "|        CONTUNDENTES|  1/01/2010| FEMENINO|       2|\n",
      "|        CONTUNDENTES|  1/01/2010| FEMENINO|       2|\n",
      "|        CONTUNDENTES|  1/01/2010|MASCULINO|       1|\n",
      "|        CONTUNDENTES|  1/01/2010| FEMENINO|       1|\n",
      "|        CONTUNDENTES|  1/01/2010| FEMENINO|       1|\n",
      "+--------------------+-----------+---------+--------+\n",
      "only showing top 20 rows\n",
      "\n"
     ]
    }
   ],
   "source": [
    "df1.show()\n",
    "df2.show()"
   ]
  },
  {
   "cell_type": "code",
   "execution_count": 6,
   "id": "11e57aab",
   "metadata": {},
   "outputs": [
    {
     "name": "stderr",
     "output_type": "stream",
     "text": [
      "\r",
      "[Stage 4:>                                                          (0 + 2) / 2]\r"
     ]
    },
    {
     "name": "stdout",
     "output_type": "stream",
     "text": [
      "+-------+-------------------+\n",
      "|summary|FECHA HECHO_STR    |\n",
      "+-------+-------------------+\n",
      "|count  |349494             |\n",
      "|mean   |null               |\n",
      "|stddev |null               |\n",
      "|min    |2015-01-01 00:00:00|\n",
      "|max    |2020-12-31 00:00:00|\n",
      "+-------+-------------------+\n",
      "\n"
     ]
    },
    {
     "name": "stderr",
     "output_type": "stream",
     "text": [
      "\r",
      "                                                                                \r"
     ]
    }
   ],
   "source": [
    "from pyspark.sql.functions import col, year, date_format\n",
    "from pyspark.sql.types import DateType\n",
    "from pyspark.sql.functions import to_date\n",
    "\n",
    "df3 = df2.withColumn('FECHA HECHO', to_date(col('FECHA HECHO'), 'd/MM/yyyy'))\n",
    "# Remove rows with a date less than 2015\n",
    "df3_filtered = df3.filter((year('FECHA HECHO') >= 2015) & (year('FECHA HECHO') < 2021))\n",
    "\n",
    "df3_filtered = df3_filtered.withColumn('FECHA HECHO_STR', date_format('FECHA HECHO', 'yyyy-MM-dd HH:mm:ss'))\n",
    "df3_filtered.select('FECHA HECHO_STR').describe().show(truncate=False)"
   ]
  },
  {
   "cell_type": "code",
   "execution_count": 7,
   "id": "079fad89",
   "metadata": {},
   "outputs": [
    {
     "name": "stdout",
     "output_type": "stream",
     "text": [
      "The null value does not exist in dataset1\n"
     ]
    }
   ],
   "source": [
    "df4 = df1.na.drop(subset=['Value'])\n",
    "\n",
    "is_null = df4.filter(col('Value').isNull())\n",
    "if is_null.count() > 0:\n",
    "    print(\"Null value exists\")\n",
    "else:\n",
    "    print(\"The null value does not exist in dataset1\")"
   ]
  },
  {
   "cell_type": "code",
   "execution_count": 8,
   "id": "eb1e8ad7",
   "metadata": {},
   "outputs": [
    {
     "name": "stderr",
     "output_type": "stream",
     "text": [
      "\r",
      "[Stage 10:>                                                         (0 + 1) / 1]\r"
     ]
    },
    {
     "name": "stdout",
     "output_type": "stream",
     "text": [
      "+-------+-----------+------+---------------------+---------------------+--------------------+-----------+------------------+\n",
      "|summary|    Country|Gender|Demographics Question|Demographics Response|            Question|Survey Year|             Value|\n",
      "+-------+-----------+------+---------------------+---------------------+--------------------+-----------+------------------+\n",
      "|  count|      11187| 11187|                11187|                11187|               11187|      11187|             11187|\n",
      "|   mean|       null|  null|                 null|                 null|                null|       null| 19.76253687099183|\n",
      "| stddev|       null|  null|                 null|                 null|                null|       null|16.986436699962074|\n",
      "|    min|Afghanistan|     F|                  Age|                15-24|... for at least ...| 01/01/2000|               0.0|\n",
      "|    max|   Zimbabwe|     M|            Residence| Widowed, divorced...|... if she refuse...| 01/01/2018|              86.9|\n",
      "+-------+-----------+------+---------------------+---------------------+--------------------+-----------+------------------+\n",
      "\n"
     ]
    },
    {
     "name": "stderr",
     "output_type": "stream",
     "text": [
      "\r",
      "                                                                                \r"
     ]
    }
   ],
   "source": [
    "df4.describe().show()"
   ]
  },
  {
   "cell_type": "code",
   "execution_count": 9,
   "id": "e4cc70df",
   "metadata": {},
   "outputs": [],
   "source": [
    "df4.write.csv('dataset1', header=True)"
   ]
  },
  {
   "cell_type": "code",
   "execution_count": 9,
   "id": "c1665a17",
   "metadata": {},
   "outputs": [
    {
     "name": "stderr",
     "output_type": "stream",
     "text": [
      "[Stage 16:>                                                         (0 + 2) / 2]\r"
     ]
    },
    {
     "name": "stdout",
     "output_type": "stream",
     "text": [
      " 'GENERO' column: ['FEMENINO', 'MASCULINO', 'NO REPORTA', None, '-']\n",
      " 'ARMAS MEDIOS' column: ['ARMA DE FUEGO', 'ESCOPOLAMINA', 'SIN EMPLEO DE ARMAS', 'ARMA BLANCA / CORTOPUNZANTE', 'NO REPORTADO', 'CONTUNDENTES', 'CORTANTES', 'CORTOPUNZANTES', 'NO REPORTA', 'PUNZANTES', None, '-']\n"
     ]
    },
    {
     "name": "stderr",
     "output_type": "stream",
     "text": [
      "\r",
      "                                                                                \r"
     ]
    }
   ],
   "source": [
    "unique_values_gen = df3.select('GENERO').distinct().rdd.flatMap(lambda x: x).collect()\n",
    "unique_values_armas = df3.select('ARMAS MEDIOS').distinct().rdd.flatMap(lambda x: x).collect()\n",
    "\n",
    "print(\" 'GENERO' column:\", unique_values_gen)\n",
    "print(\" 'ARMAS MEDIOS' column:\", unique_values_armas)"
   ]
  },
  {
   "cell_type": "code",
   "execution_count": 10,
   "id": "2265ea36",
   "metadata": {},
   "outputs": [],
   "source": [
    "values_to_remove = ['-', 'NO REPORTA']\n",
    "values_to_remove1 = ['-']\n",
    "df5 = df3_filtered.filter(~col('GENERO').isin(values_to_remove) & \n",
    "                          ~col('ARMAS MEDIOS').isin(values_to_remove1) & \n",
    "                          (col('CANTIDAD') < 20))\n"
   ]
  },
  {
   "cell_type": "code",
   "execution_count": 11,
   "id": "d37b83f3",
   "metadata": {},
   "outputs": [
    {
     "name": "stderr",
     "output_type": "stream",
     "text": [
      "\r",
      "[Stage 19:>                                                         (0 + 2) / 2]\r"
     ]
    },
    {
     "name": "stdout",
     "output_type": "stream",
     "text": [
      "+-------+------------------+\n",
      "|summary|          CANTIDAD|\n",
      "+-------+------------------+\n",
      "|  count|            347184|\n",
      "|   mean|1.4986923360523527|\n",
      "| stddev|1.6285316924048772|\n",
      "|    min|                 1|\n",
      "|    max|                19|\n",
      "+-------+------------------+\n",
      "\n"
     ]
    },
    {
     "name": "stderr",
     "output_type": "stream",
     "text": [
      "\r",
      "[Stage 19:=============================>                            (1 + 1) / 2]\r",
      "\r",
      "                                                                                \r"
     ]
    }
   ],
   "source": [
    "df5.select('CANTIDAD').describe().show()"
   ]
  },
  {
   "cell_type": "code",
   "execution_count": 26,
   "id": "238a7576",
   "metadata": {},
   "outputs": [
    {
     "name": "stderr",
     "output_type": "stream",
     "text": [
      "\r",
      "[Stage 66:>                                                         (0 + 2) / 2]\r"
     ]
    },
    {
     "name": "stdout",
     "output_type": "stream",
     "text": [
      "No null values in the DataFrame\n"
     ]
    },
    {
     "name": "stderr",
     "output_type": "stream",
     "text": [
      "\r",
      "[Stage 66:=============================>                            (1 + 1) / 2]\r",
      "\r",
      "                                                                                \r"
     ]
    }
   ],
   "source": [
    "has_null_values = df5.filter(df5['GENERO'].isNull() | df5['ARMAS MEDIOS'].isNull() | df5['CANTIDAD'].isNull()| df5['FECHA HECHO'].isNull())\n",
    "\n",
    "if has_null_values.count() > 0:\n",
    "    print(\"Null value exists in the DataFrame\")\n",
    "else:\n",
    "    print(\"No null values in the DataFrame\")"
   ]
  },
  {
   "cell_type": "code",
   "execution_count": 13,
   "id": "a661d247",
   "metadata": {},
   "outputs": [
    {
     "name": "stderr",
     "output_type": "stream",
     "text": [
      "[Stage 25:=============================>                            (1 + 1) / 2]\r"
     ]
    },
    {
     "name": "stdout",
     "output_type": "stream",
     "text": [
      "+-------+--------------------+---------+------------------+-------------------+\n",
      "|summary|        ARMAS MEDIOS|   GENERO|          CANTIDAD|    FECHA HECHO_STR|\n",
      "+-------+--------------------+---------+------------------+-------------------+\n",
      "|  count|              347184|   347184|            347184|             347184|\n",
      "|   mean|                null|     null|1.4986923360523527|               null|\n",
      "| stddev|                null|     null|1.6285316924048772|               null|\n",
      "|    min|ARMA BLANCA / COR...| FEMENINO|                 1|2015-01-01 00:00:00|\n",
      "|    max| SIN EMPLEO DE ARMAS|MASCULINO|                19|2020-12-31 00:00:00|\n",
      "+-------+--------------------+---------+------------------+-------------------+\n",
      "\n"
     ]
    },
    {
     "name": "stderr",
     "output_type": "stream",
     "text": [
      "\r",
      "                                                                                \r"
     ]
    }
   ],
   "source": [
    "df5.describe().show()"
   ]
  },
  {
   "cell_type": "code",
   "execution_count": 28,
   "id": "b1ed380a",
   "metadata": {},
   "outputs": [
    {
     "name": "stderr",
     "output_type": "stream",
     "text": [
      "[Stage 81:>                                                         (0 + 2) / 2]\r"
     ]
    },
    {
     "name": "stdout",
     "output_type": "stream",
     "text": [
      " 'GENERO' column: ['FEMENINO', 'MASCULINO']\n",
      " 'ARMAS MEDIOS' column: ['ARMA DE FUEGO', 'ESCOPOLAMINA', 'SIN EMPLEO DE ARMAS', 'ARMA BLANCA / CORTOPUNZANTE', 'NO REPORTADO', 'CONTUNDENTES', 'CORTANTES', 'CORTOPUNZANTES', 'NO REPORTA', 'PUNZANTES']\n"
     ]
    },
    {
     "name": "stderr",
     "output_type": "stream",
     "text": [
      "\r",
      "                                                                                \r"
     ]
    }
   ],
   "source": [
    "unique_values_gen = df5.select('GENERO').distinct().rdd.flatMap(lambda x: x).collect()\n",
    "unique_values_armas = df5.select('ARMAS MEDIOS').distinct().rdd.flatMap(lambda x: x).collect()\n",
    "\n",
    "print(\" 'GENERO' column:\", unique_values_gen)\n",
    "print(\" 'ARMAS MEDIOS' column:\", unique_values_armas)"
   ]
  },
  {
   "cell_type": "code",
   "execution_count": 35,
   "id": "f30bb37a",
   "metadata": {},
   "outputs": [
    {
     "name": "stderr",
     "output_type": "stream",
     "text": [
      "\r",
      "[Stage 109:>                                                        (0 + 2) / 2]\r"
     ]
    },
    {
     "name": "stdout",
     "output_type": "stream",
     "text": [
      "+-----------+--------+---------+--------------------+---------------------------+\n",
      "|FECHA HECHO|CANTIDAD|   GENERO|        ARMAS MEDIOS|Number of domestic violence|\n",
      "+-----------+--------+---------+--------------------+---------------------------+\n",
      "| 2015-01-01|       1| FEMENINO| SIN EMPLEO DE ARMAS|                         24|\n",
      "| 2015-01-01|      10| FEMENINO|        CONTUNDENTES|                          1|\n",
      "| 2015-01-01|       6| FEMENINO|        CONTUNDENTES|                          4|\n",
      "| 2015-01-01|      10|MASCULINO|        CONTUNDENTES|                          1|\n",
      "| 2015-01-01|       2| FEMENINO|        CONTUNDENTES|                          7|\n",
      "| 2015-01-01|       3| FEMENINO|        CONTUNDENTES|                          8|\n",
      "| 2015-01-01|       2|MASCULINO| SIN EMPLEO DE ARMAS|                          2|\n",
      "| 2015-01-01|       5| FEMENINO|        CONTUNDENTES|                          2|\n",
      "| 2015-01-01|       1| FEMENINO|        CONTUNDENTES|                         65|\n",
      "| 2015-01-01|       2|MASCULINO|        CONTUNDENTES|                          3|\n",
      "| 2015-01-01|       4| FEMENINO|        CONTUNDENTES|                          2|\n",
      "| 2015-01-01|       3| FEMENINO| SIN EMPLEO DE ARMAS|                          1|\n",
      "| 2015-01-01|       1| FEMENINO|        ESCOPOLAMINA|                          1|\n",
      "| 2015-01-01|      14| FEMENINO|        CONTUNDENTES|                          1|\n",
      "| 2015-01-01|       1| FEMENINO|      CORTOPUNZANTES|                          1|\n",
      "| 2015-01-01|       1| FEMENINO|          NO REPORTA|                          4|\n",
      "| 2015-01-01|       1|MASCULINO|           CORTANTES|                          2|\n",
      "| 2015-01-01|      10| FEMENINO| SIN EMPLEO DE ARMAS|                          2|\n",
      "| 2015-01-01|       1|MASCULINO|ARMA BLANCA / COR...|                          8|\n",
      "| 2015-01-01|      16| FEMENINO|        CONTUNDENTES|                          1|\n",
      "+-----------+--------+---------+--------------------+---------------------------+\n",
      "only showing top 20 rows\n",
      "\n"
     ]
    },
    {
     "name": "stderr",
     "output_type": "stream",
     "text": [
      "\r",
      "                                                                                \r"
     ]
    }
   ],
   "source": [
    "from pyspark.sql.functions import col, count\n",
    "\n",
    "grouped_data = df5.groupBy('FECHA HECHO', 'CANTIDAD', 'GENERO', 'ARMAS MEDIOS') \\\n",
    "       .agg(count(\"*\").alias(\"Number of domestic violence\"))\n",
    "\n",
    "sorted_data = grouped_data.orderBy(col('FECHA HECHO'))\n",
    "sorted_data.show()"
   ]
  },
  {
   "cell_type": "code",
   "execution_count": 47,
   "id": "12a611b9",
   "metadata": {},
   "outputs": [
    {
     "name": "stderr",
     "output_type": "stream",
     "text": [
      "                                                                                \r"
     ]
    }
   ],
   "source": [
    "sorted_data.write.csv('dataset2015-2021', header=True)"
   ]
  },
  {
   "cell_type": "code",
   "execution_count": null,
   "id": "9e541b60",
   "metadata": {},
   "outputs": [],
   "source": []
  }
 ],
 "metadata": {
  "kernelspec": {
   "display_name": "Python 3 (ipykernel)",
   "language": "python",
   "name": "python3"
  },
  "language_info": {
   "codemirror_mode": {
    "name": "ipython",
    "version": 3
   },
   "file_extension": ".py",
   "mimetype": "text/x-python",
   "name": "python",
   "nbconvert_exporter": "python",
   "pygments_lexer": "ipython3",
   "version": "3.10.4"
  }
 },
 "nbformat": 4,
 "nbformat_minor": 5
}
