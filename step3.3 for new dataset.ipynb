{
 "cells": [
  {
   "cell_type": "code",
   "execution_count": 1,
   "id": "10488ded",
   "metadata": {},
   "outputs": [
    {
     "name": "stderr",
     "output_type": "stream",
     "text": [
      "WARNING: An illegal reflective access operation has occurred\n",
      "WARNING: Illegal reflective access by org.apache.spark.unsafe.Platform (file:/home/ubuntu/spark-3.2.1-bin-hadoop2.7/jars/spark-unsafe_2.12-3.2.1.jar) to constructor java.nio.DirectByteBuffer(long,int)\n",
      "WARNING: Please consider reporting this to the maintainers of org.apache.spark.unsafe.Platform\n",
      "WARNING: Use --illegal-access=warn to enable warnings of further illegal reflective access operations\n",
      "WARNING: All illegal access operations will be denied in a future release\n",
      "Using Spark's default log4j profile: org/apache/spark/log4j-defaults.properties\n",
      "Setting default log level to \"WARN\".\n",
      "To adjust logging level use sc.setLogLevel(newLevel). For SparkR, use setLogLevel(newLevel).\n",
      "23/10/04 04:48:04 WARN NativeCodeLoader: Unable to load native-hadoop library for your platform... using builtin-java classes where applicable\n"
     ]
    }
   ],
   "source": [
    "import findspark\n",
    "findspark.init('/home/ubuntu/spark-3.2.1-bin-hadoop2.7')\n",
    "import pyspark\n",
    "from pyspark.sql import SparkSession\n",
    "spark = SparkSession.builder.appName('basics').getOrCreate()"
   ]
  },
  {
   "cell_type": "code",
   "execution_count": 2,
   "id": "6d0c4bdf",
   "metadata": {},
   "outputs": [
    {
     "name": "stdout",
     "output_type": "stream",
     "text": [
      "root\n",
      " |-- departamento: string (nullable = true)\n",
      " |-- municipio: string (nullable = true)\n",
      " |-- codigo_dane: string (nullable = true)\n",
      " |-- armas_medios: string (nullable = true)\n",
      " |-- fecha_hecho: string (nullable = true)\n",
      " |-- genero: string (nullable = true)\n",
      " |-- grupo_etario: string (nullable = true)\n",
      " |-- cantidad: integer (nullable = true)\n",
      "\n"
     ]
    }
   ],
   "source": [
    "df2 = spark.read.csv('raw_data.csv', header=True)\n",
    "from pyspark.sql.functions import col\n",
    "from pyspark.sql.types import FloatType,IntegerType\n",
    "\n",
    "# Change the data type using the withColumn method\n",
    "df2 = df2.withColumn(\"cantidad\", col(\"cantidad\").cast(IntegerType()))\n",
    "columns_to_keep = df2.columns[1:]  \n",
    "df2= df2.select(*columns_to_keep)\n",
    "df2.printSchema()"
   ]
  },
  {
   "cell_type": "code",
   "execution_count": 3,
   "id": "afdb12fb",
   "metadata": {},
   "outputs": [
    {
     "name": "stdout",
     "output_type": "stream",
     "text": [
      "+--------------------+-----------+---------+--------+\n",
      "|        armas_medios|fecha_hecho|   genero|cantidad|\n",
      "+--------------------+-----------+---------+--------+\n",
      "|ARMA BLANCA / COR...|  1/01/2010|MASCULINO|       1|\n",
      "|ARMA BLANCA / COR...|  1/01/2010| FEMENINO|       1|\n",
      "|ARMA BLANCA / COR...|  1/01/2010|MASCULINO|       1|\n",
      "|ARMA BLANCA / COR...|  1/01/2010| FEMENINO|       1|\n",
      "|ARMA BLANCA / COR...|  1/01/2010| FEMENINO|       1|\n",
      "|ARMA BLANCA / COR...|  1/01/2010| FEMENINO|       1|\n",
      "|ARMA BLANCA / COR...|  1/01/2010| FEMENINO|       2|\n",
      "|ARMA BLANCA / COR...|  1/01/2010|MASCULINO|       2|\n",
      "|ARMA BLANCA / COR...|  1/01/2010| FEMENINO|       1|\n",
      "|       ARMA DE FUEGO|  1/01/2010| FEMENINO|       1|\n",
      "|        CONTUNDENTES|  1/01/2010| FEMENINO|       1|\n",
      "|        CONTUNDENTES|  1/01/2010| FEMENINO|       2|\n",
      "|        CONTUNDENTES|  1/01/2010| FEMENINO|       1|\n",
      "|        CONTUNDENTES|  1/01/2010| FEMENINO|       3|\n",
      "|        CONTUNDENTES|  1/01/2010|MASCULINO|       1|\n",
      "|        CONTUNDENTES|  1/01/2010| FEMENINO|       2|\n",
      "|        CONTUNDENTES|  1/01/2010| FEMENINO|       2|\n",
      "|        CONTUNDENTES|  1/01/2010|MASCULINO|       1|\n",
      "|        CONTUNDENTES|  1/01/2010| FEMENINO|       1|\n",
      "|        CONTUNDENTES|  1/01/2010| FEMENINO|       1|\n",
      "+--------------------+-----------+---------+--------+\n",
      "only showing top 20 rows\n",
      "\n"
     ]
    }
   ],
   "source": [
    "columns_to_drop = ['departamento', 'municipio', 'codigo_dane', 'grupo_etario']\n",
    "df2 = df2.select([col for col in df2.columns if col not in columns_to_drop])\n",
    "df2.show()"
   ]
  },
  {
   "cell_type": "code",
   "execution_count": 4,
   "id": "11ffd49d",
   "metadata": {},
   "outputs": [
    {
     "name": "stderr",
     "output_type": "stream",
     "text": [
      "[Stage 2:=============================>                             (1 + 1) / 2]\r"
     ]
    },
    {
     "name": "stdout",
     "output_type": "stream",
     "text": [
      "+-------+-------------------+\n",
      "|summary|fecha_hecho_STR    |\n",
      "+-------+-------------------+\n",
      "|count  |121175             |\n",
      "|mean   |null               |\n",
      "|stddev |null               |\n",
      "|min    |2021-01-01 00:00:00|\n",
      "|max    |2023-02-28 00:00:00|\n",
      "+-------+-------------------+\n",
      "\n"
     ]
    },
    {
     "name": "stderr",
     "output_type": "stream",
     "text": [
      "\r",
      "                                                                                \r"
     ]
    }
   ],
   "source": [
    "from pyspark.sql.functions import col, year, date_format\n",
    "from pyspark.sql.types import DateType\n",
    "from pyspark.sql.functions import to_date\n",
    "\n",
    "df3 = df2.withColumn('fecha_hecho', to_date(col('fecha_hecho'), 'd/MM/yyyy'))\n",
    "# Remove rows with a date less than 2015\n",
    "df3_filtered = df3.filter((year('fecha_hecho') >= 2021))\n",
    "\n",
    "df3_filtered = df3_filtered.withColumn('fecha_hecho_STR', date_format('fecha_hecho', 'yyyy-MM-dd HH:mm:ss'))\n",
    "df3_filtered.select('fecha_hecho_STR').describe().show(truncate=False)"
   ]
  },
  {
   "cell_type": "code",
   "execution_count": 5,
   "id": "f720f29d",
   "metadata": {},
   "outputs": [
    {
     "name": "stderr",
     "output_type": "stream",
     "text": [
      "[Stage 8:>                                                          (0 + 2) / 2]\r"
     ]
    },
    {
     "name": "stdout",
     "output_type": "stream",
     "text": [
      " 'GENERO' column: ['FEMENINO', 'MASCULINO', 'NO REPORTA', '-', 'NO REPORTADO']\n",
      " 'ARMAS MEDIOS' column: ['ARMA DE FUEGO', 'ESCOPOLAMINA', 'SIN EMPLEO DE ARMAS', 'ARMA BLANCA / CORTOPUNZANTE', 'NO REPORTADO', 'CONTUNDENTES', 'CORTANTES', 'CORTOPUNZANTES', 'NO REPORTA', 'PUNZANTES', '-']\n"
     ]
    },
    {
     "name": "stderr",
     "output_type": "stream",
     "text": [
      "\r",
      "                                                                                \r"
     ]
    }
   ],
   "source": [
    "unique_values_gen = df3.select('genero').distinct().rdd.flatMap(lambda x: x).collect()\n",
    "unique_values_armas = df3.select('armas_medios').distinct().rdd.flatMap(lambda x: x).collect()\n",
    "\n",
    "print(\" 'GENERO' column:\", unique_values_gen)\n",
    "print(\" 'ARMAS MEDIOS' column:\", unique_values_armas)"
   ]
  },
  {
   "cell_type": "code",
   "execution_count": 6,
   "id": "de97d01b",
   "metadata": {},
   "outputs": [
    {
     "name": "stderr",
     "output_type": "stream",
     "text": [
      "\r",
      "[Stage 11:>                                                         (0 + 2) / 2]\r"
     ]
    },
    {
     "name": "stdout",
     "output_type": "stream",
     "text": [
      "No null values in the DataFrame\n"
     ]
    },
    {
     "name": "stderr",
     "output_type": "stream",
     "text": [
      "\r",
      "[Stage 11:=============================>                            (1 + 1) / 2]\r",
      "\r",
      "                                                                                \r"
     ]
    }
   ],
   "source": [
    "values_to_remove = ['-', 'NO REPORTADO']\n",
    "values_to_remove1 = ['-']\n",
    "df5 = df3_filtered.filter(~col('genero').isin(values_to_remove) & \n",
    "                          ~col('armas_medios').isin(values_to_remove1) & \n",
    "                          (col('cantidad') < 20))\n",
    "\n",
    "has_null_values = df5.filter(df5['genero'].isNull() | df5['armas_medios'].isNull() | df5['cantidad'].isNull())\n",
    "\n",
    "if has_null_values.count() > 0:\n",
    "    print(\"Null value exists in the DataFrame\")\n",
    "else:\n",
    "    print(\"No null values in the DataFrame\")"
   ]
  },
  {
   "cell_type": "code",
   "execution_count": 7,
   "id": "809724b8",
   "metadata": {},
   "outputs": [
    {
     "name": "stderr",
     "output_type": "stream",
     "text": [
      "[Stage 14:=============================>                            (1 + 1) / 2]\r"
     ]
    },
    {
     "name": "stdout",
     "output_type": "stream",
     "text": [
      "+-------+--------------------+---------+------------------+-------------------+\n",
      "|summary|        armas_medios|   genero|          cantidad|    fecha_hecho_STR|\n",
      "+-------+--------------------+---------+------------------+-------------------+\n",
      "|  count|              119495|   119495|            119495|             119495|\n",
      "|   mean|                null|     null|1.6663877149671535|               null|\n",
      "| stddev|                null|     null|1.7632847848850663|               null|\n",
      "|    min|ARMA BLANCA / COR...| FEMENINO|                 1|2021-01-01 00:00:00|\n",
      "|    max| SIN EMPLEO DE ARMAS|MASCULINO|                19|2023-02-28 00:00:00|\n",
      "+-------+--------------------+---------+------------------+-------------------+\n",
      "\n"
     ]
    },
    {
     "name": "stderr",
     "output_type": "stream",
     "text": [
      "\r",
      "                                                                                \r"
     ]
    }
   ],
   "source": [
    "df5.describe().show()"
   ]
  },
  {
   "cell_type": "code",
   "execution_count": 8,
   "id": "a8bc6709",
   "metadata": {},
   "outputs": [
    {
     "name": "stderr",
     "output_type": "stream",
     "text": [
      "[Stage 20:>                                                         (0 + 2) / 2]\r"
     ]
    },
    {
     "name": "stdout",
     "output_type": "stream",
     "text": [
      " 'GENERO' column: ['FEMENINO', 'MASCULINO']\n",
      " 'ARMAS MEDIOS' column: ['ARMA DE FUEGO', 'SIN EMPLEO DE ARMAS', 'ARMA BLANCA / CORTOPUNZANTE', 'NO REPORTADO', 'CONTUNDENTES']\n"
     ]
    },
    {
     "name": "stderr",
     "output_type": "stream",
     "text": [
      "\r",
      "[Stage 20:=============================>                            (1 + 1) / 2]\r",
      "\r",
      "                                                                                \r"
     ]
    }
   ],
   "source": [
    "unique_values_gen = df5.select('genero').distinct().rdd.flatMap(lambda x: x).collect()\n",
    "unique_values_armas = df5.select('armas_medios').distinct().rdd.flatMap(lambda x: x).collect()\n",
    "\n",
    "print(\" 'GENERO' column:\", unique_values_gen)\n",
    "print(\" 'ARMAS MEDIOS' column:\", unique_values_armas)"
   ]
  },
  {
   "cell_type": "code",
   "execution_count": 10,
   "id": "66ae2c09",
   "metadata": {},
   "outputs": [
    {
     "name": "stderr",
     "output_type": "stream",
     "text": [
      "                                                                                \r"
     ]
    }
   ],
   "source": [
    "df5.coalesce(1).write.csv('dataset2021-2023-1', header=True)"
   ]
  },
  {
   "cell_type": "code",
   "execution_count": 10,
   "id": "4f979aae",
   "metadata": {},
   "outputs": [
    {
     "name": "stderr",
     "output_type": "stream",
     "text": [
      "[Stage 23:=============================>                            (1 + 1) / 2]\r"
     ]
    },
    {
     "name": "stdout",
     "output_type": "stream",
     "text": [
      "+-----------+--------+---------+--------------------+---------------------------+\n",
      "|fecha_hecho|cantidad|   genero|        armas_medios|Number of domestic violence|\n",
      "+-----------+--------+---------+--------------------+---------------------------+\n",
      "| 2021-01-01|       7|MASCULINO|        CONTUNDENTES|                          1|\n",
      "| 2021-01-01|       2| FEMENINO| SIN EMPLEO DE ARMAS|                         17|\n",
      "| 2021-01-01|       5|MASCULINO| SIN EMPLEO DE ARMAS|                          2|\n",
      "| 2021-01-01|       2|MASCULINO|ARMA BLANCA / COR...|                          2|\n",
      "| 2021-01-01|       7| FEMENINO|        CONTUNDENTES|                          1|\n",
      "| 2021-01-01|       1| FEMENINO|        CONTUNDENTES|                         65|\n",
      "| 2021-01-01|       1| FEMENINO| SIN EMPLEO DE ARMAS|                         70|\n",
      "| 2021-01-01|      12| FEMENINO| SIN EMPLEO DE ARMAS|                          1|\n",
      "| 2021-01-01|       2|MASCULINO|        CONTUNDENTES|                          5|\n",
      "| 2021-01-01|       9| FEMENINO| SIN EMPLEO DE ARMAS|                          1|\n",
      "| 2021-01-01|       3|MASCULINO| SIN EMPLEO DE ARMAS|                          3|\n",
      "| 2021-01-01|      16| FEMENINO|        CONTUNDENTES|                          1|\n",
      "| 2021-01-01|       1|MASCULINO|ARMA BLANCA / COR...|                          5|\n",
      "| 2021-01-01|      10| FEMENINO| SIN EMPLEO DE ARMAS|                          1|\n",
      "| 2021-01-01|       2|MASCULINO| SIN EMPLEO DE ARMAS|                          3|\n",
      "| 2021-01-01|      11| FEMENINO| SIN EMPLEO DE ARMAS|                          1|\n",
      "| 2021-01-01|       6| FEMENINO|        CONTUNDENTES|                          2|\n",
      "| 2021-01-01|       8| FEMENINO|        CONTUNDENTES|                          1|\n",
      "| 2021-01-01|       5| FEMENINO|        CONTUNDENTES|                          1|\n",
      "| 2021-01-01|       1| FEMENINO|ARMA BLANCA / COR...|                          7|\n",
      "+-----------+--------+---------+--------------------+---------------------------+\n",
      "only showing top 20 rows\n",
      "\n"
     ]
    },
    {
     "name": "stderr",
     "output_type": "stream",
     "text": [
      "\r",
      "                                                                                \r"
     ]
    }
   ],
   "source": [
    "from pyspark.sql.functions import col, count\n",
    "\n",
    "grouped_data = df5.groupBy('fecha_hecho', 'cantidad', 'genero', 'armas_medios') \\\n",
    "       .agg(count(\"*\").alias(\"Number of domestic violence\"))\n",
    "\n",
    "sorted_data = grouped_data.orderBy(col('fecha_hecho'))\n",
    "sorted_data.show()"
   ]
  },
  {
   "cell_type": "code",
   "execution_count": 11,
   "id": "95fb932c",
   "metadata": {},
   "outputs": [
    {
     "name": "stderr",
     "output_type": "stream",
     "text": [
      "                                                                                \r"
     ]
    }
   ],
   "source": [
    "sorted_data.write.csv('dataset2021-2023', header=True)"
   ]
  },
  {
   "cell_type": "code",
   "execution_count": null,
   "id": "5a532f80",
   "metadata": {},
   "outputs": [],
   "source": []
  }
 ],
 "metadata": {
  "kernelspec": {
   "display_name": "Python 3 (ipykernel)",
   "language": "python",
   "name": "python3"
  },
  "language_info": {
   "codemirror_mode": {
    "name": "ipython",
    "version": 3
   },
   "file_extension": ".py",
   "mimetype": "text/x-python",
   "name": "python",
   "nbconvert_exporter": "python",
   "pygments_lexer": "ipython3",
   "version": "3.10.4"
  }
 },
 "nbformat": 4,
 "nbformat_minor": 5
}
