{
 "cells": [
  {
   "cell_type": "code",
   "execution_count": 14,
   "id": "cd8b9c0f",
   "metadata": {},
   "outputs": [],
   "source": [
    "import findspark\n",
    "findspark.init('/home/ubuntu/spark-3.2.1-bin-hadoop2.7')\n",
    "import pyspark\n",
    "from pyspark.sql import SparkSession\n",
    "spark = SparkSession.builder.appName('basics').getOrCreate()"
   ]
  },
  {
   "cell_type": "code",
   "execution_count": 15,
   "id": "f5ea46f3",
   "metadata": {},
   "outputs": [
    {
     "name": "stdout",
     "output_type": "stream",
     "text": [
      "+-----------+--------+---------+-------------------+---------------------------+\n",
      "|FECHA HECHO|CANTIDAD|   GENERO|       ARMAS MEDIOS|Number of domestic violence|\n",
      "+-----------+--------+---------+-------------------+---------------------------+\n",
      "| 2015-01-01|       1| FEMENINO|         NO REPORTA|                          4|\n",
      "| 2015-01-01|      10|MASCULINO|       CONTUNDENTES|                          1|\n",
      "| 2015-01-01|       1|MASCULINO|     CORTOPUNZANTES|                          1|\n",
      "| 2015-01-01|       3| FEMENINO|       CONTUNDENTES|                          8|\n",
      "| 2015-01-01|      10| FEMENINO|SIN EMPLEO DE ARMAS|                          2|\n",
      "| 2015-01-01|       5| FEMENINO|       CONTUNDENTES|                          2|\n",
      "| 2015-01-01|       2| FEMENINO|SIN EMPLEO DE ARMAS|                          2|\n",
      "| 2015-01-01|       2|MASCULINO|       CONTUNDENTES|                          3|\n",
      "| 2015-01-01|      16| FEMENINO|       CONTUNDENTES|                          1|\n",
      "| 2015-01-01|       3| FEMENINO|SIN EMPLEO DE ARMAS|                          1|\n",
      "| 2015-01-01|      14| FEMENINO|       CONTUNDENTES|                          1|\n",
      "| 2015-01-01|       3|MASCULINO|       CONTUNDENTES|                          2|\n",
      "| 2015-01-01|       1| FEMENINO|SIN EMPLEO DE ARMAS|                         24|\n",
      "| 2015-01-01|       6| FEMENINO|       CONTUNDENTES|                          4|\n",
      "| 2015-01-01|       2| FEMENINO|       CONTUNDENTES|                          7|\n",
      "| 2015-01-01|       2|MASCULINO|SIN EMPLEO DE ARMAS|                          2|\n",
      "| 2015-01-01|       1| FEMENINO|       CONTUNDENTES|                         65|\n",
      "| 2015-01-01|       4| FEMENINO|       CONTUNDENTES|                          2|\n",
      "| 2015-01-01|       1| FEMENINO|       ESCOPOLAMINA|                          1|\n",
      "| 2015-01-01|       1| FEMENINO|     CORTOPUNZANTES|                          1|\n",
      "+-----------+--------+---------+-------------------+---------------------------+\n",
      "only showing top 20 rows\n",
      "\n",
      "+-----------+--------+---------+--------------------+---------------------------+\n",
      "|fecha_hecho|cantidad|   genero|        armas_medios|Number of domestic violence|\n",
      "+-----------+--------+---------+--------------------+---------------------------+\n",
      "| 2021-01-01|       5|MASCULINO| SIN EMPLEO DE ARMAS|                          2|\n",
      "| 2021-01-01|       2|MASCULINO|ARMA BLANCA / COR...|                          2|\n",
      "| 2021-01-01|       7|MASCULINO|        CONTUNDENTES|                          1|\n",
      "| 2021-01-01|       2| FEMENINO| SIN EMPLEO DE ARMAS|                         17|\n",
      "| 2021-01-01|       7| FEMENINO|        CONTUNDENTES|                          1|\n",
      "| 2021-01-01|       1| FEMENINO|        CONTUNDENTES|                         65|\n",
      "| 2021-01-01|       1| FEMENINO| SIN EMPLEO DE ARMAS|                         70|\n",
      "| 2021-01-01|      12| FEMENINO| SIN EMPLEO DE ARMAS|                          1|\n",
      "| 2021-01-01|       2|MASCULINO|        CONTUNDENTES|                          5|\n",
      "| 2021-01-01|       3|MASCULINO| SIN EMPLEO DE ARMAS|                          3|\n",
      "| 2021-01-01|      16| FEMENINO|        CONTUNDENTES|                          1|\n",
      "| 2021-01-01|       1|MASCULINO|ARMA BLANCA / COR...|                          5|\n",
      "| 2021-01-01|      10| FEMENINO| SIN EMPLEO DE ARMAS|                          1|\n",
      "| 2021-01-01|       2|MASCULINO| SIN EMPLEO DE ARMAS|                          3|\n",
      "| 2021-01-01|      11| FEMENINO| SIN EMPLEO DE ARMAS|                          1|\n",
      "| 2021-01-01|       6| FEMENINO|        CONTUNDENTES|                          2|\n",
      "| 2021-01-01|       9| FEMENINO| SIN EMPLEO DE ARMAS|                          1|\n",
      "| 2021-01-01|       8| FEMENINO|        CONTUNDENTES|                          1|\n",
      "| 2021-01-01|       5| FEMENINO|        CONTUNDENTES|                          1|\n",
      "| 2021-01-01|       1| FEMENINO|ARMA BLANCA / COR...|                          7|\n",
      "+-----------+--------+---------+--------------------+---------------------------+\n",
      "only showing top 20 rows\n",
      "\n"
     ]
    }
   ],
   "source": [
    "from pyspark.sql.functions import col\n",
    "from pyspark.sql.types import FloatType,IntegerType\n",
    "df1 = spark.read.csv('dataset2015-2021/part-00000-51c3497a-fce7-41ff-97f1-763fcaab0030-c000.csv', header=True)\n",
    "df2 = spark.read.csv('dataset2021-2023/part-00000-4c89b77e-4001-45ee-a7af-273053b8d675-c000.csv', header=True)\n",
    "df1.show()\n",
    "df2.show()"
   ]
  },
  {
   "cell_type": "code",
   "execution_count": 16,
   "id": "377e06b3",
   "metadata": {},
   "outputs": [
    {
     "name": "stdout",
     "output_type": "stream",
     "text": [
      "+-----------+--------+---------+-------------------+---------------------------+\n",
      "|FECHA HECHO|CANTIDAD|   GENERO|       ARMAS MEDIOS|Number of domestic violence|\n",
      "+-----------+--------+---------+-------------------+---------------------------+\n",
      "| 2015-01-01|       1| FEMENINO|         NO REPORTA|                          4|\n",
      "| 2015-01-01|      10|MASCULINO|       CONTUNDENTES|                          1|\n",
      "| 2015-01-01|       1|MASCULINO|     CORTOPUNZANTES|                          1|\n",
      "| 2015-01-01|       3| FEMENINO|       CONTUNDENTES|                          8|\n",
      "| 2015-01-01|      10| FEMENINO|SIN EMPLEO DE ARMAS|                          2|\n",
      "| 2015-01-01|       5| FEMENINO|       CONTUNDENTES|                          2|\n",
      "| 2015-01-01|       2| FEMENINO|SIN EMPLEO DE ARMAS|                          2|\n",
      "| 2015-01-01|       2|MASCULINO|       CONTUNDENTES|                          3|\n",
      "| 2015-01-01|      16| FEMENINO|       CONTUNDENTES|                          1|\n",
      "| 2015-01-01|       3| FEMENINO|SIN EMPLEO DE ARMAS|                          1|\n",
      "| 2015-01-01|      14| FEMENINO|       CONTUNDENTES|                          1|\n",
      "| 2015-01-01|       3|MASCULINO|       CONTUNDENTES|                          2|\n",
      "| 2015-01-01|       1| FEMENINO|SIN EMPLEO DE ARMAS|                         24|\n",
      "| 2015-01-01|       6| FEMENINO|       CONTUNDENTES|                          4|\n",
      "| 2015-01-01|       2| FEMENINO|       CONTUNDENTES|                          7|\n",
      "| 2015-01-01|       2|MASCULINO|SIN EMPLEO DE ARMAS|                          2|\n",
      "| 2015-01-01|       1| FEMENINO|       CONTUNDENTES|                         65|\n",
      "| 2015-01-01|       4| FEMENINO|       CONTUNDENTES|                          2|\n",
      "| 2015-01-01|       1| FEMENINO|       ESCOPOLAMINA|                          1|\n",
      "| 2015-01-01|       1| FEMENINO|     CORTOPUNZANTES|                          1|\n",
      "+-----------+--------+---------+-------------------+---------------------------+\n",
      "only showing top 20 rows\n",
      "\n"
     ]
    }
   ],
   "source": [
    "df2 = df2.withColumnRenamed(\"fecha_hecho\", \"FECHA HECHO\") \\\n",
    "         .withColumnRenamed(\"cantidad\", \"CANTIDAD\") \\\n",
    "         .withColumnRenamed(\"genero\", \"GENERO\") \\\n",
    "         .withColumnRenamed(\"armas_medios\", \"ARMAS MEDIOS\") \\\n",
    "         .withColumnRenamed(\"Number of domestic violence\", \"Number of domestic violence\")\n",
    "result = df1.union(df2)\n",
    "result.show()"
   ]
  },
  {
   "cell_type": "code",
   "execution_count": 17,
   "id": "0bf95de0",
   "metadata": {},
   "outputs": [
    {
     "name": "stderr",
     "output_type": "stream",
     "text": [
      "\r",
      "[Stage 28:>                                                         (0 + 2) / 2]\r",
      "\r",
      "[Stage 28:=============================>                            (1 + 1) / 2]\r"
     ]
    },
    {
     "name": "stdout",
     "output_type": "stream",
     "text": [
      "+-------+-----------+------------------+---------+--------------------+---------------------------+\n",
      "|summary|FECHA HECHO|          CANTIDAD|   GENERO|        ARMAS MEDIOS|Number of domestic violence|\n",
      "+-------+-----------+------------------+---------+--------------------+---------------------------+\n",
      "|  count|      69352|             69352|    69352|               69352|                      69352|\n",
      "|   mean|       null|3.4878157803668244|     null|                null|          6.729135425077864|\n",
      "| stddev|       null| 3.438737464318609|     null|                null|          12.92708390124352|\n",
      "|    min| 2015-01-01|                 1| FEMENINO|ARMA BLANCA / COR...|                          1|\n",
      "|    max| 2023-02-28|                 9|MASCULINO| SIN EMPLEO DE ARMAS|                         99|\n",
      "+-------+-----------+------------------+---------+--------------------+---------------------------+\n",
      "\n"
     ]
    },
    {
     "name": "stderr",
     "output_type": "stream",
     "text": [
      "\r",
      "                                                                                \r"
     ]
    }
   ],
   "source": [
    "result.describe().show()"
   ]
  },
  {
   "cell_type": "code",
   "execution_count": 18,
   "id": "54f8a344",
   "metadata": {},
   "outputs": [
    {
     "name": "stderr",
     "output_type": "stream",
     "text": [
      "[Stage 31:=============================>                            (1 + 1) / 2]\r"
     ]
    },
    {
     "name": "stdout",
     "output_type": "stream",
     "text": [
      "+-------+-----------+------------------+------+--------------------+---------------------------+\n",
      "|summary|FECHA HECHO|          CANTIDAD|GENERO|        ARMAS MEDIOS|Number of domestic violence|\n",
      "+-------+-----------+------------------+------+--------------------+---------------------------+\n",
      "|  count|      69352|             69352| 69352|               69352|                      69352|\n",
      "|   mean|       null|3.4878157803668244|  null|                null|          6.729135425077864|\n",
      "| stddev|       null| 3.438737464318609|  null|                null|          12.92708390124352|\n",
      "|    min| 2015-01-01|                 1|     F|ARMA BLANCA / COR...|                          1|\n",
      "|    max| 2023-02-28|                 9|     M| SIN EMPLEO DE ARMAS|                         99|\n",
      "+-------+-----------+------------------+------+--------------------+---------------------------+\n",
      "\n"
     ]
    },
    {
     "name": "stderr",
     "output_type": "stream",
     "text": [
      "\r",
      "                                                                                \r"
     ]
    }
   ],
   "source": [
    "from pyspark.sql import functions as F\n",
    "result = result.withColumn(\"GENERO\", F.when(col(\"GENERO\") == \"FEMENINO\", \"F\").otherwise(\"M\"))\n",
    "result.describe().show()"
   ]
  },
  {
   "cell_type": "code",
   "execution_count": 24,
   "id": "747ea4bc",
   "metadata": {},
   "outputs": [],
   "source": [
    "result.coalesce(1).write.csv('dataset2015-2023', header=True)"
   ]
  },
  {
   "cell_type": "code",
   "execution_count": 25,
   "id": "0c4ed3bf",
   "metadata": {},
   "outputs": [
    {
     "name": "stderr",
     "output_type": "stream",
     "text": [
      "\r",
      "[Stage 46:>                                                         (0 + 1) / 1]\r"
     ]
    },
    {
     "name": "stdout",
     "output_type": "stream",
     "text": [
      "+-------+-----------+------------------+------+--------------------+---------------------------+\n",
      "|summary|FECHA HECHO|          CANTIDAD|GENERO|        ARMAS MEDIOS|Number of domestic violence|\n",
      "+-------+-----------+------------------+------+--------------------+---------------------------+\n",
      "|  count|      69352|             69352| 69352|               69352|                      69352|\n",
      "|   mean|       null|3.4878157803668244|  null|                null|          6.729135425077864|\n",
      "| stddev|       null|3.4387374643186135|  null|                null|         12.927083901243488|\n",
      "|    min| 2015-01-01|                 1|     F|ARMA BLANCA / COR...|                          1|\n",
      "|    max| 2023-02-28|                 9|     M| SIN EMPLEO DE ARMAS|                         99|\n",
      "+-------+-----------+------------------+------+--------------------+---------------------------+\n",
      "\n"
     ]
    },
    {
     "name": "stderr",
     "output_type": "stream",
     "text": [
      "\r",
      "                                                                                \r"
     ]
    }
   ],
   "source": [
    "df3 = spark.read.csv('dataset2015-2023/part-00000-cf3a31a0-f371-4654-b46c-cbd995786b39-c000.csv', header=True)\n",
    "df3.describe().show()"
   ]
  },
  {
   "cell_type": "code",
   "execution_count": null,
   "id": "b286114d",
   "metadata": {},
   "outputs": [],
   "source": []
  }
 ],
 "metadata": {
  "kernelspec": {
   "display_name": "Python 3 (ipykernel)",
   "language": "python",
   "name": "python3"
  },
  "language_info": {
   "codemirror_mode": {
    "name": "ipython",
    "version": 3
   },
   "file_extension": ".py",
   "mimetype": "text/x-python",
   "name": "python",
   "nbconvert_exporter": "python",
   "pygments_lexer": "ipython3",
   "version": "3.10.4"
  }
 },
 "nbformat": 4,
 "nbformat_minor": 5
}
